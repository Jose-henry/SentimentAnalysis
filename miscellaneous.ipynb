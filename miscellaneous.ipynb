{
  "nbformat": 4,
  "nbformat_minor": 0,
  "metadata": {
    "colab": {
      "provenance": []
    },
    "kernelspec": {
      "name": "python3",
      "display_name": "Python 3"
    },
    "language_info": {
      "name": "python"
    }
  },
  "cells": [
    {
      "source": [
        "# Import pandas\n",
        "import pandas as pd\n",
        "\n",
        "# Specify the path to your CSV file\n",
        "file_path = \"/content/training.1600000.processed.noemoticon.csv\"\n",
        "\n",
        "# Specify the encoding (e.g., 'latin-1', 'utf-16')\n",
        "encoding = 'latin-1'\n",
        "\n",
        "# Load the CSV file into a pandas DataFrame\n",
        "df = pd.read_csv(file_path, encoding=encoding)\n",
        "\n",
        "# Delete all columns but the last one\n",
        "df = df[df.columns[-1:]]\n",
        "\n",
        "# Display the DataFrame\n",
        "print(df)"
      ],
      "cell_type": "code",
      "metadata": {
        "colab": {
          "base_uri": "https://localhost:8080/"
        },
        "id": "f5EWLjIGUjsj",
        "outputId": "0c8a7de0-d7f4-4a58-c140-d919dee1ed04"
      },
      "execution_count": null,
      "outputs": [
        {
          "output_type": "stream",
          "name": "stdout",
          "text": [
            "        @switchfoot http://twitpic.com/2y1zl - Awww, that's a bummer.  You shoulda got David Carr of Third Day to do it. ;D\n",
            "0        is upset that he can't update his Facebook by ...                                                                 \n",
            "1        @Kenichan I dived many times for the ball. Man...                                                                 \n",
            "2          my whole body feels itchy and like its on fire                                                                  \n",
            "3        @nationwideclass no, it's not behaving at all....                                                                 \n",
            "4                            @Kwesidei not the whole crew                                                                  \n",
            "...                                                    ...                                                                 \n",
            "1599994  Just woke up. Having no school is the best fee...                                                                 \n",
            "1599995  TheWDB.com - Very cool to hear old Walt interv...                                                                 \n",
            "1599996  Are you ready for your MoJo Makeover? Ask me f...                                                                 \n",
            "1599997  Happy 38th Birthday to my boo of alll time!!! ...                                                                 \n",
            "1599998  happy #charitytuesday @theNSPCC @SparksCharity...                                                                 \n",
            "\n",
            "[1599999 rows x 1 columns]\n"
          ]
        }
      ]
    },
    {
      "cell_type": "code",
      "source": [
        "# Name the column\n",
        "df.columns = ['text']\n",
        "\n",
        "# Display the DataFrame\n",
        "print(df)\n"
      ],
      "metadata": {
        "colab": {
          "base_uri": "https://localhost:8080/"
        },
        "id": "0rkxjAIDWVcL",
        "outputId": "793c31de-0e2b-4565-e05b-39213a5b9551"
      },
      "execution_count": null,
      "outputs": [
        {
          "output_type": "stream",
          "name": "stdout",
          "text": [
            "                                                      text\n",
            "0        is upset that he can't update his Facebook by ...\n",
            "1        @Kenichan I dived many times for the ball. Man...\n",
            "2          my whole body feels itchy and like its on fire \n",
            "3        @nationwideclass no, it's not behaving at all....\n",
            "4                            @Kwesidei not the whole crew \n",
            "...                                                    ...\n",
            "1599994  Just woke up. Having no school is the best fee...\n",
            "1599995  TheWDB.com - Very cool to hear old Walt interv...\n",
            "1599996  Are you ready for your MoJo Makeover? Ask me f...\n",
            "1599997  Happy 38th Birthday to my boo of alll time!!! ...\n",
            "1599998  happy #charitytuesday @theNSPCC @SparksCharity...\n",
            "\n",
            "[1599999 rows x 1 columns]\n"
          ]
        }
      ]
    },
    {
      "cell_type": "code",
      "source": [
        "# Rename the column to 'text'\n",
        "df.columns = ['text']\n",
        "\n",
        "# Remove any instance of @name\n",
        "df['text'] = df['text'].str.replace(r'@\\w+', '', regex=True)\n",
        "\n",
        "# Remove any link\n",
        "df['text'] = df['text'].str.replace(r'http\\S+|www.\\S+', '', regex=True)\n",
        "\n",
        "# Display the DataFrame\n",
        "print(df)\n"
      ],
      "metadata": {
        "colab": {
          "base_uri": "https://localhost:8080/"
        },
        "id": "Q9ZF18V5WatC",
        "outputId": "981e0153-1ef5-4800-a05f-d3b61b5c8296"
      },
      "execution_count": null,
      "outputs": [
        {
          "output_type": "stream",
          "name": "stdout",
          "text": [
            "                                                      text\n",
            "0        is upset that he can't update his Facebook by ...\n",
            "1         I dived many times for the ball. Managed to s...\n",
            "2          my whole body feels itchy and like its on fire \n",
            "3         no, it's not behaving at all. i'm mad. why am...\n",
            "4                                      not the whole crew \n",
            "...                                                    ...\n",
            "1599994  Just woke up. Having no school is the best fee...\n",
            "1599995  TheWDB.com - Very cool to hear old Walt interv...\n",
            "1599996  Are you ready for your MoJo Makeover? Ask me f...\n",
            "1599997  Happy 38th Birthday to my boo of alll time!!! ...\n",
            "1599998                          happy #charitytuesday    \n",
            "\n",
            "[1599999 rows x 1 columns]\n"
          ]
        }
      ]
    },
    {
      "cell_type": "code",
      "source": [
        "# Save the DataFrame to a new CSV file\n",
        "df.to_csv(\"/text.csv\", index=False)\n"
      ],
      "metadata": {
        "id": "xlEstCPyXVkD"
      },
      "execution_count": null,
      "outputs": []
    },
    {
      "cell_type": "code",
      "source": [
        "# Import pandas\n",
        "import pandas as pd\n",
        "\n",
        "# Specify the path to your CSV file\n",
        "file_path = \"/content/textcomment.csv\"\n",
        "\n",
        "# Load the CSV file with 'latin-1' encoding into a pandas DataFrame\n",
        "df = pd.read_csv(file_path, encoding='latin-1')\n",
        "\n",
        "# Save the DataFrame to a new CSV file with 'utf-8' encoding\n",
        "df.to_csv(\"/content/textcomment_utf8.csv\", index=False, encoding='utf-8')\n"
      ],
      "metadata": {
        "id": "1U_cbsUmYiLH"
      },
      "execution_count": null,
      "outputs": []
    }
  ]
}