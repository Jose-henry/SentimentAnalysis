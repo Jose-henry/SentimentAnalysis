{
  "cells": [
    {
      "cell_type": "markdown",
      "metadata": {
        "id": "c0-Lk114g_6o"
      },
      "source": [
        "**INPUT DATA**"
      ]
    },
    {
      "cell_type": "code",
      "execution_count": null,
      "metadata": {
        "id": "_djgREGdX_Uc"
      },
      "outputs": [],
      "source": [
        "text =  open('read.txt', encoding='utf-8').read()\n",
        "print(text)"
      ]
    },
    {
      "cell_type": "markdown",
      "metadata": {
        "id": "yXeW9GuCU7_2"
      },
      "source": [
        "**CLEANING TEXT DATA**\n",
        "1. CONVERTING TO LOWERCASE\n",
        "2. REMOVAL OF PUNTUATIONS\n",
        "3. TOKENIZATION\n",
        "4. STOPWORDS"
      ]
    },
    {
      "cell_type": "code",
      "execution_count": null,
      "metadata": {
        "id": "vOQyWVKUUhFa"
      },
      "outputs": [],
      "source": [
        "## 1. converting text file to lowercase\n",
        "lowercase = text.lower()\n",
        "print(lowercase)"
      ]
    },
    {
      "cell_type": "code",
      "execution_count": 98,
      "metadata": {
        "colab": {
          "base_uri": "https://localhost:8080/"
        },
        "id": "uBdxE-rgVbBZ",
        "outputId": "30dc9321-5177-41c0-f6f0-41a1c49291dd"
      },
      "outputs": [
        {
          "name": "stdout",
          "output_type": "stream",
          "text": [
            "i am honored to be with you today at your commencement from one of the finest universities in the world i never graduated from college truth be told this is the closest i’ve ever gotten to a college graduation today i want to tell you three stories from my life that’s it no big deal just three stories\n",
            "\n",
            "related to this story\n",
            "2005 stanford commencement coverage\n",
            "the first story is about connecting the dots\n",
            "\n",
            "i dropped out of reed college after the first 6 months but then stayed around as a dropin for another 18 months or so before i really quit so why did i drop out\n",
            "\n",
            "it started before i was born my biological mother was a young unwed college graduate student and she decided to put me up for adoption she felt very strongly that i should be adopted by college graduates so everything was all set for me to be adopted at birth by a lawyer and his wife except that when i popped out they decided at the last minute that they really wanted a girl so my parents who were on a waiting list got a call in the middle of the night asking “we have an unexpected baby boy do you want him” they said “of course” my biological mother later found out that my mother had never graduated from college and that my father had never graduated from high school she refused to sign the final adoption papers she only relented a few months later when my parents promised that i would someday go to college\n",
            "\n",
            "and 17 years later i did go to college but i naively chose a college that was almost as expensive as stanford and all of my workingclass parents’ savings were being spent on my college tuition after six months i couldn’t see the value in it i had no idea what i wanted to do with my life and no idea how college was going to help me figure it out and here i was spending all of the money my parents had saved their entire life so i decided to drop out and trust that it would all work out ok it was pretty scary at the time but looking back it was one of the best decisions i ever made the minute i dropped out i could stop taking the required classes that didn’t interest me and begin dropping in on the ones that looked interesting\n",
            "\n",
            "it wasn’t all romantic i didn’t have a dorm room so i slept on the floor in friends’ rooms i returned coke bottles for the 5¢ deposits to buy food with and i would walk the 7 miles across town every sunday night to get one good meal a week at the hare krishna temple i loved it and much of what i stumbled into by following my curiosity and intuition turned out to be priceless later on let me give you one example\n",
            "\n",
            "reed college at that time offered perhaps the best calligraphy instruction in the country throughout the campus every poster every label on every drawer was beautifully hand calligraphed because i had dropped out and didn’t have to take the normal classes i decided to take a calligraphy class to learn how to do this i learned about serif and sans serif typefaces about varying the amount of space between different letter combinations about what makes great typography great it was beautiful historical artistically subtle in a way that science can’t capture and i found it fascinating\n",
            "\n",
            "none of this had even a hope of any practical application in my life but 10 years later when we were designing the first macintosh computer it all came back to me and we designed it all into the mac it was the first computer with beautiful typography if i had never dropped in on that single course in college the mac would have never had multiple typefaces or proportionally spaced fonts and since windows just copied the mac it’s likely that no personal computer would have them if i had never dropped out i would have never dropped in on this calligraphy class and personal computers might not have the wonderful typography that they do of course it was impossible to connect the dots looking forward when i was in college but it was very very clear looking backward 10 years later\n",
            "\n",
            "again you can’t connect the dots looking forward you can only connect them looking backward so you have to trust that the dots will somehow connect in your future you have to trust in something — your gut destiny life karma whatever this approach has never let me down and it has made all the difference in my life\n",
            "\n",
            "my second story is about love and loss\n",
            "\n",
            "i was lucky — i found what i loved to do early in life woz and i started apple in my parents’ garage when i was 20 we worked hard and in 10 years apple had grown from just the two of us in a garage into a 2 billion company with over 4000 employees we had just released our finest creation — the macintosh — a year earlier and i had just turned 30 and then i got fired how can you get fired from a company you started well as apple grew we hired someone who i thought was very talented to run the company with me and for the first year or so things went well but then our visions of the future began to diverge and eventually we had a falling out when we did our board of directors sided with him so at 30 i was out and very publicly out what had been the focus of my entire adult life was gone and it was devastating\n",
            "\n",
            "i really didn’t know what to do for a few months i felt that i had let the previous generation of entrepreneurs down — that i had dropped the baton as it was being passed to me i met with david packard and bob noyce and tried to apologize for screwing up so badly i was a very public failure and i even thought about running away from the valley but something slowly began to dawn on me — i still loved what i did the turn of events at apple had not changed that one bit i had been rejected but i was still in love and so i decided to start over\n",
            "\n",
            "i didn’t see it then but it turned out that getting fired from apple was the best thing that could have ever happened to me the heaviness of being successful was replaced by the lightness of being a beginner again less sure about everything it freed me to enter one of the most creative periods of my life\n",
            "\n",
            "during the next five years i started a company named next another company named pixar and fell in love with an amazing woman who would become my wife pixar went on to create the world’s first computer animated feature film toy story and is now the most successful animation studio in the world in a remarkable turn of events apple bought next i returned to apple and the technology we developed at next is at the heart of apple’s current renaissance and laurene and i have a wonderful family together\n",
            "\n",
            "i’m pretty sure none of this would have happened if i hadn’t been fired from apple it was awful tasting medicine but i guess the patient needed it sometimes life hits you in the head with a brick don’t lose faith i’m convinced that the only thing that kept me going was that i loved what i did you’ve got to find what you love and that is as true for your work as it is for your lovers your work is going to fill a large part of your life and the only way to be truly satisfied is to do what you believe is great work and the only way to do great work is to love what you do if you haven’t found it yet keep looking don’t settle as with all matters of the heart you’ll know when you find it and like any great relationship it just gets better and better as the years roll on so keep looking until you find it don’t settle\n",
            "\n",
            "my third story is about death\n",
            "\n",
            "when i was 17 i read a quote that went something like “if you live each day as if it was your last someday you’ll most certainly be right” it made an impression on me and since then for the past 33 years i have looked in the mirror every morning and asked myself “if today were the last day of my life would i want to do what i am about to do today” and whenever the answer has been “no” for too many days in a row i know i need to change something\n",
            "\n",
            "remembering that i’ll be dead soon is the most important tool i’ve ever encountered to help me make the big choices in life because almost everything — all external expectations all pride all fear of embarrassment or failure — these things just fall away in the face of death leaving only what is truly important remembering that you are going to die is the best way i know to avoid the trap of thinking you have something to lose you are already naked there is no reason not to follow your heart\n",
            "\n",
            "about a year ago i was diagnosed with cancer i had a scan at 730 in the morning and it clearly showed a tumor on my pancreas i didn’t even know what a pancreas was the doctors told me this was almost certainly a type of cancer that is incurable and that i should expect to live no longer than three to six months my doctor advised me to go home and get my affairs in order which is doctor’s code for prepare to die it means to try to tell your kids everything you thought you’d have the next 10 years to tell them in just a few months it means to make sure everything is buttoned up so that it will be as easy as possible for your family it means to say your goodbyes\n",
            "\n",
            "i lived with that diagnosis all day later that evening i had a biopsy where they stuck an endoscope down my throat through my stomach and into my intestines put a needle into my pancreas and got a few cells from the tumor i was sedated but my wife who was there told me that when they viewed the cells under a microscope the doctors started crying because it turned out to be a very rare form of pancreatic cancer that is curable with surgery i had the surgery and i’m fine now\n",
            "\n",
            "this was the closest i’ve been to facing death and i hope it’s the closest i get for a few more decades having lived through it i can now say this to you with a bit more certainty than when death was a useful but purely intellectual concept\n",
            "\n",
            "no one wants to die even people who want to go to heaven don’t want to die to get there and yet death is the destination we all share no one has ever escaped it and that is as it should be because death is very likely the single best invention of life it is life’s change agent it clears out the old to make way for the new right now the new is you but someday not too long from now you will gradually become the old and be cleared away sorry to be so dramatic but it is quite true\n",
            "\n",
            "your time is limited so don’t waste it living someone else’s life don’t be trapped by dogma — which is living with the results of other people’s thinking don’t let the noise of others’ opinions drown out your own inner voice and most important have the courage to follow your heart and intuition they somehow already know what you truly want to become everything else is secondary\n",
            "\n",
            "when i was young there was an amazing publication called the whole earth catalog which was one of the bibles of my generation it was created by a fellow named stewart brand not far from here in menlo park and he brought it to life with his poetic touch this was in the late 1960s before personal computers and desktop publishing so it was all made with typewriters scissors and polaroid cameras it was sort of like google in paperback form 35 years before google came along it was idealistic and overflowing with neat tools and great notions\n",
            "\n",
            "stewart and his team put out several issues of the whole earth catalog and then when it had run its course they put out a final issue it was the mid1970s and i was your age on the back cover of their final issue was a photograph of an early morning country road the kind you might find yourself hitchhiking on if you were so adventurous beneath it were the words “stay hungry stay foolish” it was their farewell message as they signed off stay hungry stay foolish and i have always wished that for myself and now as you graduate to begin anew i wish that for you\n",
            "\n",
            "stay hungry stay foolish\n",
            "\n",
            "thank you all very much\n"
          ]
        }
      ],
      "source": [
        "## 2. removal of puntuations\n",
        "import string\n",
        "#print(string.punctuation) ## to show all acceptable puntuation\n",
        "cleaned_text = lowercase.translate(str.maketrans('','',string.punctuation)) #func to remove punctuatios\n",
        "print(cleaned_text)\n"
      ]
    },
    {
      "cell_type": "code",
      "execution_count": 99,
      "metadata": {
        "colab": {
          "base_uri": "https://localhost:8080/"
        },
        "id": "RJz9RP9KVpjF",
        "outputId": "09fb1612-4c2d-48d4-8f0e-99e86a113922"
      },
      "outputs": [
        {
          "name": "stdout",
          "output_type": "stream",
          "text": [
            "['i', 'am', 'honored', 'to', 'be', 'with', 'you', 'today', 'at', 'your', 'commencement', 'from', 'one', 'of', 'the', 'finest', 'universities', 'in', 'the', 'world', 'i', 'never', 'graduated', 'from', 'college', 'truth', 'be', 'told', 'this', 'is', 'the', 'closest', 'i’ve', 'ever', 'gotten', 'to', 'a', 'college', 'graduation', 'today', 'i', 'want', 'to', 'tell', 'you', 'three', 'stories', 'from', 'my', 'life', 'that’s', 'it', 'no', 'big', 'deal', 'just', 'three', 'stories', 'related', 'to', 'this', 'story', '2005', 'stanford', 'commencement', 'coverage', 'the', 'first', 'story', 'is', 'about', 'connecting', 'the', 'dots', 'i', 'dropped', 'out', 'of', 'reed', 'college', 'after', 'the', 'first', '6', 'months', 'but', 'then', 'stayed', 'around', 'as', 'a', 'dropin', 'for', 'another', '18', 'months', 'or', 'so', 'before', 'i', 'really', 'quit', 'so', 'why', 'did', 'i', 'drop', 'out', 'it', 'started', 'before', 'i', 'was', 'born', 'my', 'biological', 'mother', 'was', 'a', 'young', 'unwed', 'college', 'graduate', 'student', 'and', 'she', 'decided', 'to', 'put', 'me', 'up', 'for', 'adoption', 'she', 'felt', 'very', 'strongly', 'that', 'i', 'should', 'be', 'adopted', 'by', 'college', 'graduates', 'so', 'everything', 'was', 'all', 'set', 'for', 'me', 'to', 'be', 'adopted', 'at', 'birth', 'by', 'a', 'lawyer', 'and', 'his', 'wife', 'except', 'that', 'when', 'i', 'popped', 'out', 'they', 'decided', 'at', 'the', 'last', 'minute', 'that', 'they', 'really', 'wanted', 'a', 'girl', 'so', 'my', 'parents', 'who', 'were', 'on', 'a', 'waiting', 'list', 'got', 'a', 'call', 'in', 'the', 'middle', 'of', 'the', 'night', 'asking', '“we', 'have', 'an', 'unexpected', 'baby', 'boy', 'do', 'you', 'want', 'him”', 'they', 'said', '“of', 'course”', 'my', 'biological', 'mother', 'later', 'found', 'out', 'that', 'my', 'mother', 'had', 'never', 'graduated', 'from', 'college', 'and', 'that', 'my', 'father', 'had', 'never', 'graduated', 'from', 'high', 'school', 'she', 'refused', 'to', 'sign', 'the', 'final', 'adoption', 'papers', 'she', 'only', 'relented', 'a', 'few', 'months', 'later', 'when', 'my', 'parents', 'promised', 'that', 'i', 'would', 'someday', 'go', 'to', 'college', 'and', '17', 'years', 'later', 'i', 'did', 'go', 'to', 'college', 'but', 'i', 'naively', 'chose', 'a', 'college', 'that', 'was', 'almost', 'as', 'expensive', 'as', 'stanford', 'and', 'all', 'of', 'my', 'workingclass', 'parents’', 'savings', 'were', 'being', 'spent', 'on', 'my', 'college', 'tuition', 'after', 'six', 'months', 'i', 'couldn’t', 'see', 'the', 'value', 'in', 'it', 'i', 'had', 'no', 'idea', 'what', 'i', 'wanted', 'to', 'do', 'with', 'my', 'life', 'and', 'no', 'idea', 'how', 'college', 'was', 'going', 'to', 'help', 'me', 'figure', 'it', 'out', 'and', 'here', 'i', 'was', 'spending', 'all', 'of', 'the', 'money', 'my', 'parents', 'had', 'saved', 'their', 'entire', 'life', 'so', 'i', 'decided', 'to', 'drop', 'out', 'and', 'trust', 'that', 'it', 'would', 'all', 'work', 'out', 'ok', 'it', 'was', 'pretty', 'scary', 'at', 'the', 'time', 'but', 'looking', 'back', 'it', 'was', 'one', 'of', 'the', 'best', 'decisions', 'i', 'ever', 'made', 'the', 'minute', 'i', 'dropped', 'out', 'i', 'could', 'stop', 'taking', 'the', 'required', 'classes', 'that', 'didn’t', 'interest', 'me', 'and', 'begin', 'dropping', 'in', 'on', 'the', 'ones', 'that', 'looked', 'interesting', 'it', 'wasn’t', 'all', 'romantic', 'i', 'didn’t', 'have', 'a', 'dorm', 'room', 'so', 'i', 'slept', 'on', 'the', 'floor', 'in', 'friends’', 'rooms', 'i', 'returned', 'coke', 'bottles', 'for', 'the', '5¢', 'deposits', 'to', 'buy', 'food', 'with', 'and', 'i', 'would', 'walk', 'the', '7', 'miles', 'across', 'town', 'every', 'sunday', 'night', 'to', 'get', 'one', 'good', 'meal', 'a', 'week', 'at', 'the', 'hare', 'krishna', 'temple', 'i', 'loved', 'it', 'and', 'much', 'of', 'what', 'i', 'stumbled', 'into', 'by', 'following', 'my', 'curiosity', 'and', 'intuition', 'turned', 'out', 'to', 'be', 'priceless', 'later', 'on', 'let', 'me', 'give', 'you', 'one', 'example', 'reed', 'college', 'at', 'that', 'time', 'offered', 'perhaps', 'the', 'best', 'calligraphy', 'instruction', 'in', 'the', 'country', 'throughout', 'the', 'campus', 'every', 'poster', 'every', 'label', 'on', 'every', 'drawer', 'was', 'beautifully', 'hand', 'calligraphed', 'because', 'i', 'had', 'dropped', 'out', 'and', 'didn’t', 'have', 'to', 'take', 'the', 'normal', 'classes', 'i', 'decided', 'to', 'take', 'a', 'calligraphy', 'class', 'to', 'learn', 'how', 'to', 'do', 'this', 'i', 'learned', 'about', 'serif', 'and', 'sans', 'serif', 'typefaces', 'about', 'varying', 'the', 'amount', 'of', 'space', 'between', 'different', 'letter', 'combinations', 'about', 'what', 'makes', 'great', 'typography', 'great', 'it', 'was', 'beautiful', 'historical', 'artistically', 'subtle', 'in', 'a', 'way', 'that', 'science', 'can’t', 'capture', 'and', 'i', 'found', 'it', 'fascinating', 'none', 'of', 'this', 'had', 'even', 'a', 'hope', 'of', 'any', 'practical', 'application', 'in', 'my', 'life', 'but', '10', 'years', 'later', 'when', 'we', 'were', 'designing', 'the', 'first', 'macintosh', 'computer', 'it', 'all', 'came', 'back', 'to', 'me', 'and', 'we', 'designed', 'it', 'all', 'into', 'the', 'mac', 'it', 'was', 'the', 'first', 'computer', 'with', 'beautiful', 'typography', 'if', 'i', 'had', 'never', 'dropped', 'in', 'on', 'that', 'single', 'course', 'in', 'college', 'the', 'mac', 'would', 'have', 'never', 'had', 'multiple', 'typefaces', 'or', 'proportionally', 'spaced', 'fonts', 'and', 'since', 'windows', 'just', 'copied', 'the', 'mac', 'it’s', 'likely', 'that', 'no', 'personal', 'computer', 'would', 'have', 'them', 'if', 'i', 'had', 'never', 'dropped', 'out', 'i', 'would', 'have', 'never', 'dropped', 'in', 'on', 'this', 'calligraphy', 'class', 'and', 'personal', 'computers', 'might', 'not', 'have', 'the', 'wonderful', 'typography', 'that', 'they', 'do', 'of', 'course', 'it', 'was', 'impossible', 'to', 'connect', 'the', 'dots', 'looking', 'forward', 'when', 'i', 'was', 'in', 'college', 'but', 'it', 'was', 'very', 'very', 'clear', 'looking', 'backward', '10', 'years', 'later', 'again', 'you', 'can’t', 'connect', 'the', 'dots', 'looking', 'forward', 'you', 'can', 'only', 'connect', 'them', 'looking', 'backward', 'so', 'you', 'have', 'to', 'trust', 'that', 'the', 'dots', 'will', 'somehow', 'connect', 'in', 'your', 'future', 'you', 'have', 'to', 'trust', 'in', 'something', '—', 'your', 'gut', 'destiny', 'life', 'karma', 'whatever', 'this', 'approach', 'has', 'never', 'let', 'me', 'down', 'and', 'it', 'has', 'made', 'all', 'the', 'difference', 'in', 'my', 'life', 'my', 'second', 'story', 'is', 'about', 'love', 'and', 'loss', 'i', 'was', 'lucky', '—', 'i', 'found', 'what', 'i', 'loved', 'to', 'do', 'early', 'in', 'life', 'woz', 'and', 'i', 'started', 'apple', 'in', 'my', 'parents’', 'garage', 'when', 'i', 'was', '20', 'we', 'worked', 'hard', 'and', 'in', '10', 'years', 'apple', 'had', 'grown', 'from', 'just', 'the', 'two', 'of', 'us', 'in', 'a', 'garage', 'into', 'a', '2', 'billion', 'company', 'with', 'over', '4000', 'employees', 'we', 'had', 'just', 'released', 'our', 'finest', 'creation', '—', 'the', 'macintosh', '—', 'a', 'year', 'earlier', 'and', 'i', 'had', 'just', 'turned', '30', 'and', 'then', 'i', 'got', 'fired', 'how', 'can', 'you', 'get', 'fired', 'from', 'a', 'company', 'you', 'started', 'well', 'as', 'apple', 'grew', 'we', 'hired', 'someone', 'who', 'i', 'thought', 'was', 'very', 'talented', 'to', 'run', 'the', 'company', 'with', 'me', 'and', 'for', 'the', 'first', 'year', 'or', 'so', 'things', 'went', 'well', 'but', 'then', 'our', 'visions', 'of', 'the', 'future', 'began', 'to', 'diverge', 'and', 'eventually', 'we', 'had', 'a', 'falling', 'out', 'when', 'we', 'did', 'our', 'board', 'of', 'directors', 'sided', 'with', 'him', 'so', 'at', '30', 'i', 'was', 'out', 'and', 'very', 'publicly', 'out', 'what', 'had', 'been', 'the', 'focus', 'of', 'my', 'entire', 'adult', 'life', 'was', 'gone', 'and', 'it', 'was', 'devastating', 'i', 'really', 'didn’t', 'know', 'what', 'to', 'do', 'for', 'a', 'few', 'months', 'i', 'felt', 'that', 'i', 'had', 'let', 'the', 'previous', 'generation', 'of', 'entrepreneurs', 'down', '—', 'that', 'i', 'had', 'dropped', 'the', 'baton', 'as', 'it', 'was', 'being', 'passed', 'to', 'me', 'i', 'met', 'with', 'david', 'packard', 'and', 'bob', 'noyce', 'and', 'tried', 'to', 'apologize', 'for', 'screwing', 'up', 'so', 'badly', 'i', 'was', 'a', 'very', 'public', 'failure', 'and', 'i', 'even', 'thought', 'about', 'running', 'away', 'from', 'the', 'valley', 'but', 'something', 'slowly', 'began', 'to', 'dawn', 'on', 'me', '—', 'i', 'still', 'loved', 'what', 'i', 'did', 'the', 'turn', 'of', 'events', 'at', 'apple', 'had', 'not', 'changed', 'that', 'one', 'bit', 'i', 'had', 'been', 'rejected', 'but', 'i', 'was', 'still', 'in', 'love', 'and', 'so', 'i', 'decided', 'to', 'start', 'over', 'i', 'didn’t', 'see', 'it', 'then', 'but', 'it', 'turned', 'out', 'that', 'getting', 'fired', 'from', 'apple', 'was', 'the', 'best', 'thing', 'that', 'could', 'have', 'ever', 'happened', 'to', 'me', 'the', 'heaviness', 'of', 'being', 'successful', 'was', 'replaced', 'by', 'the', 'lightness', 'of', 'being', 'a', 'beginner', 'again', 'less', 'sure', 'about', 'everything', 'it', 'freed', 'me', 'to', 'enter', 'one', 'of', 'the', 'most', 'creative', 'periods', 'of', 'my', 'life', 'during', 'the', 'next', 'five', 'years', 'i', 'started', 'a', 'company', 'named', 'next', 'another', 'company', 'named', 'pixar', 'and', 'fell', 'in', 'love', 'with', 'an', 'amazing', 'woman', 'who', 'would', 'become', 'my', 'wife', 'pixar', 'went', 'on', 'to', 'create', 'the', 'world’s', 'first', 'computer', 'animated', 'feature', 'film', 'toy', 'story', 'and', 'is', 'now', 'the', 'most', 'successful', 'animation', 'studio', 'in', 'the', 'world', 'in', 'a', 'remarkable', 'turn', 'of', 'events', 'apple', 'bought', 'next', 'i', 'returned', 'to', 'apple', 'and', 'the', 'technology', 'we', 'developed', 'at', 'next', 'is', 'at', 'the', 'heart', 'of', 'apple’s', 'current', 'renaissance', 'and', 'laurene', 'and', 'i', 'have', 'a', 'wonderful', 'family', 'together', 'i’m', 'pretty', 'sure', 'none', 'of', 'this', 'would', 'have', 'happened', 'if', 'i', 'hadn’t', 'been', 'fired', 'from', 'apple', 'it', 'was', 'awful', 'tasting', 'medicine', 'but', 'i', 'guess', 'the', 'patient', 'needed', 'it', 'sometimes', 'life', 'hits', 'you', 'in', 'the', 'head', 'with', 'a', 'brick', 'don’t', 'lose', 'faith', 'i’m', 'convinced', 'that', 'the', 'only', 'thing', 'that', 'kept', 'me', 'going', 'was', 'that', 'i', 'loved', 'what', 'i', 'did', 'you’ve', 'got', 'to', 'find', 'what', 'you', 'love', 'and', 'that', 'is', 'as', 'true', 'for', 'your', 'work', 'as', 'it', 'is', 'for', 'your', 'lovers', 'your', 'work', 'is', 'going', 'to', 'fill', 'a', 'large', 'part', 'of', 'your', 'life', 'and', 'the', 'only', 'way', 'to', 'be', 'truly', 'satisfied', 'is', 'to', 'do', 'what', 'you', 'believe', 'is', 'great', 'work', 'and', 'the', 'only', 'way', 'to', 'do', 'great', 'work', 'is', 'to', 'love', 'what', 'you', 'do', 'if', 'you', 'haven’t', 'found', 'it', 'yet', 'keep', 'looking', 'don’t', 'settle', 'as', 'with', 'all', 'matters', 'of', 'the', 'heart', 'you’ll', 'know', 'when', 'you', 'find', 'it', 'and', 'like', 'any', 'great', 'relationship', 'it', 'just', 'gets', 'better', 'and', 'better', 'as', 'the', 'years', 'roll', 'on', 'so', 'keep', 'looking', 'until', 'you', 'find', 'it', 'don’t', 'settle', 'my', 'third', 'story', 'is', 'about', 'death', 'when', 'i', 'was', '17', 'i', 'read', 'a', 'quote', 'that', 'went', 'something', 'like', '“if', 'you', 'live', 'each', 'day', 'as', 'if', 'it', 'was', 'your', 'last', 'someday', 'you’ll', 'most', 'certainly', 'be', 'right”', 'it', 'made', 'an', 'impression', 'on', 'me', 'and', 'since', 'then', 'for', 'the', 'past', '33', 'years', 'i', 'have', 'looked', 'in', 'the', 'mirror', 'every', 'morning', 'and', 'asked', 'myself', '“if', 'today', 'were', 'the', 'last', 'day', 'of', 'my', 'life', 'would', 'i', 'want', 'to', 'do', 'what', 'i', 'am', 'about', 'to', 'do', 'today”', 'and', 'whenever', 'the', 'answer', 'has', 'been', '“no”', 'for', 'too', 'many', 'days', 'in', 'a', 'row', 'i', 'know', 'i', 'need', 'to', 'change', 'something', 'remembering', 'that', 'i’ll', 'be', 'dead', 'soon', 'is', 'the', 'most', 'important', 'tool', 'i’ve', 'ever', 'encountered', 'to', 'help', 'me', 'make', 'the', 'big', 'choices', 'in', 'life', 'because', 'almost', 'everything', '—', 'all', 'external', 'expectations', 'all', 'pride', 'all', 'fear', 'of', 'embarrassment', 'or', 'failure', '—', 'these', 'things', 'just', 'fall', 'away', 'in', 'the', 'face', 'of', 'death', 'leaving', 'only', 'what', 'is', 'truly', 'important', 'remembering', 'that', 'you', 'are', 'going', 'to', 'die', 'is', 'the', 'best', 'way', 'i', 'know', 'to', 'avoid', 'the', 'trap', 'of', 'thinking', 'you', 'have', 'something', 'to', 'lose', 'you', 'are', 'already', 'naked', 'there', 'is', 'no', 'reason', 'not', 'to', 'follow', 'your', 'heart', 'about', 'a', 'year', 'ago', 'i', 'was', 'diagnosed', 'with', 'cancer', 'i', 'had', 'a', 'scan', 'at', '730', 'in', 'the', 'morning', 'and', 'it', 'clearly', 'showed', 'a', 'tumor', 'on', 'my', 'pancreas', 'i', 'didn’t', 'even', 'know', 'what', 'a', 'pancreas', 'was', 'the', 'doctors', 'told', 'me', 'this', 'was', 'almost', 'certainly', 'a', 'type', 'of', 'cancer', 'that', 'is', 'incurable', 'and', 'that', 'i', 'should', 'expect', 'to', 'live', 'no', 'longer', 'than', 'three', 'to', 'six', 'months', 'my', 'doctor', 'advised', 'me', 'to', 'go', 'home', 'and', 'get', 'my', 'affairs', 'in', 'order', 'which', 'is', 'doctor’s', 'code', 'for', 'prepare', 'to', 'die', 'it', 'means', 'to', 'try', 'to', 'tell', 'your', 'kids', 'everything', 'you', 'thought', 'you’d', 'have', 'the', 'next', '10', 'years', 'to', 'tell', 'them', 'in', 'just', 'a', 'few', 'months', 'it', 'means', 'to', 'make', 'sure', 'everything', 'is', 'buttoned', 'up', 'so', 'that', 'it', 'will', 'be', 'as', 'easy', 'as', 'possible', 'for', 'your', 'family', 'it', 'means', 'to', 'say', 'your', 'goodbyes', 'i', 'lived', 'with', 'that', 'diagnosis', 'all', 'day', 'later', 'that', 'evening', 'i', 'had', 'a', 'biopsy', 'where', 'they', 'stuck', 'an', 'endoscope', 'down', 'my', 'throat', 'through', 'my', 'stomach', 'and', 'into', 'my', 'intestines', 'put', 'a', 'needle', 'into', 'my', 'pancreas', 'and', 'got', 'a', 'few', 'cells', 'from', 'the', 'tumor', 'i', 'was', 'sedated', 'but', 'my', 'wife', 'who', 'was', 'there', 'told', 'me', 'that', 'when', 'they', 'viewed', 'the', 'cells', 'under', 'a', 'microscope', 'the', 'doctors', 'started', 'crying', 'because', 'it', 'turned', 'out', 'to', 'be', 'a', 'very', 'rare', 'form', 'of', 'pancreatic', 'cancer', 'that', 'is', 'curable', 'with', 'surgery', 'i', 'had', 'the', 'surgery', 'and', 'i’m', 'fine', 'now', 'this', 'was', 'the', 'closest', 'i’ve', 'been', 'to', 'facing', 'death', 'and', 'i', 'hope', 'it’s', 'the', 'closest', 'i', 'get', 'for', 'a', 'few', 'more', 'decades', 'having', 'lived', 'through', 'it', 'i', 'can', 'now', 'say', 'this', 'to', 'you', 'with', 'a', 'bit', 'more', 'certainty', 'than', 'when', 'death', 'was', 'a', 'useful', 'but', 'purely', 'intellectual', 'concept', 'no', 'one', 'wants', 'to', 'die', 'even', 'people', 'who', 'want', 'to', 'go', 'to', 'heaven', 'don’t', 'want', 'to', 'die', 'to', 'get', 'there', 'and', 'yet', 'death', 'is', 'the', 'destination', 'we', 'all', 'share', 'no', 'one', 'has', 'ever', 'escaped', 'it', 'and', 'that', 'is', 'as', 'it', 'should', 'be', 'because', 'death', 'is', 'very', 'likely', 'the', 'single', 'best', 'invention', 'of', 'life', 'it', 'is', 'life’s', 'change', 'agent', 'it', 'clears', 'out', 'the', 'old', 'to', 'make', 'way', 'for', 'the', 'new', 'right', 'now', 'the', 'new', 'is', 'you', 'but', 'someday', 'not', 'too', 'long', 'from', 'now', 'you', 'will', 'gradually', 'become', 'the', 'old', 'and', 'be', 'cleared', 'away', 'sorry', 'to', 'be', 'so', 'dramatic', 'but', 'it', 'is', 'quite', 'true', 'your', 'time', 'is', 'limited', 'so', 'don’t', 'waste', 'it', 'living', 'someone', 'else’s', 'life', 'don’t', 'be', 'trapped', 'by', 'dogma', '—', 'which', 'is', 'living', 'with', 'the', 'results', 'of', 'other', 'people’s', 'thinking', 'don’t', 'let', 'the', 'noise', 'of', 'others’', 'opinions', 'drown', 'out', 'your', 'own', 'inner', 'voice', 'and', 'most', 'important', 'have', 'the', 'courage', 'to', 'follow', 'your', 'heart', 'and', 'intuition', 'they', 'somehow', 'already', 'know', 'what', 'you', 'truly', 'want', 'to', 'become', 'everything', 'else', 'is', 'secondary', 'when', 'i', 'was', 'young', 'there', 'was', 'an', 'amazing', 'publication', 'called', 'the', 'whole', 'earth', 'catalog', 'which', 'was', 'one', 'of', 'the', 'bibles', 'of', 'my', 'generation', 'it', 'was', 'created', 'by', 'a', 'fellow', 'named', 'stewart', 'brand', 'not', 'far', 'from', 'here', 'in', 'menlo', 'park', 'and', 'he', 'brought', 'it', 'to', 'life', 'with', 'his', 'poetic', 'touch', 'this', 'was', 'in', 'the', 'late', '1960s', 'before', 'personal', 'computers', 'and', 'desktop', 'publishing', 'so', 'it', 'was', 'all', 'made', 'with', 'typewriters', 'scissors', 'and', 'polaroid', 'cameras', 'it', 'was', 'sort', 'of', 'like', 'google', 'in', 'paperback', 'form', '35', 'years', 'before', 'google', 'came', 'along', 'it', 'was', 'idealistic', 'and', 'overflowing', 'with', 'neat', 'tools', 'and', 'great', 'notions', 'stewart', 'and', 'his', 'team', 'put', 'out', 'several', 'issues', 'of', 'the', 'whole', 'earth', 'catalog', 'and', 'then', 'when', 'it', 'had', 'run', 'its', 'course', 'they', 'put', 'out', 'a', 'final', 'issue', 'it', 'was', 'the', 'mid1970s', 'and', 'i', 'was', 'your', 'age', 'on', 'the', 'back', 'cover', 'of', 'their', 'final', 'issue', 'was', 'a', 'photograph', 'of', 'an', 'early', 'morning', 'country', 'road', 'the', 'kind', 'you', 'might', 'find', 'yourself', 'hitchhiking', 'on', 'if', 'you', 'were', 'so', 'adventurous', 'beneath', 'it', 'were', 'the', 'words', '“stay', 'hungry', 'stay', 'foolish”', 'it', 'was', 'their', 'farewell', 'message', 'as', 'they', 'signed', 'off', 'stay', 'hungry', 'stay', 'foolish', 'and', 'i', 'have', 'always', 'wished', 'that', 'for', 'myself', 'and', 'now', 'as', 'you', 'graduate', 'to', 'begin', 'anew', 'i', 'wish', 'that', 'for', 'you', 'stay', 'hungry', 'stay', 'foolish', 'thank', 'you', 'all', 'very', 'much']\n"
          ]
        }
      ],
      "source": [
        "## 3. Tokenization: separating each word that makes up a sentence with a quotes\n",
        "tokenized_words = cleaned_text.split()\n",
        "print(tokenized_words)"
      ]
    },
    {
      "cell_type": "code",
      "execution_count": 100,
      "metadata": {
        "colab": {
          "base_uri": "https://localhost:8080/"
        },
        "id": "u2fByNgXYd41",
        "outputId": "3321d74e-0618-4444-d9f2-3317aa7b2cca"
      },
      "outputs": [
        {
          "name": "stdout",
          "output_type": "stream",
          "text": [
            "['honored', 'today', 'commencement', 'one', 'finest', 'universities', 'world', 'never', 'graduated', 'college', 'truth', 'told', 'closest', 'i’ve', 'ever', 'gotten', 'college', 'graduation', 'today', 'want', 'tell', 'three', 'stories', 'life', 'that’s', 'big', 'deal', 'three', 'stories', 'related', 'story', '2005', 'stanford', 'commencement', 'coverage', 'first', 'story', 'connecting', 'dots', 'dropped', 'reed', 'college', 'first', '6', 'months', 'stayed', 'around', 'dropin', 'another', '18', 'months', 'really', 'quit', 'drop', 'started', 'born', 'biological', 'mother', 'young', 'unwed', 'college', 'graduate', 'student', 'decided', 'put', 'adoption', 'felt', 'strongly', 'adopted', 'college', 'graduates', 'everything', 'set', 'adopted', 'birth', 'lawyer', 'wife', 'except', 'popped', 'decided', 'last', 'minute', 'really', 'wanted', 'girl', 'parents', 'waiting', 'list', 'got', 'call', 'middle', 'night', 'asking', '“we', 'unexpected', 'baby', 'boy', 'want', 'him”', 'said', '“of', 'course”', 'biological', 'mother', 'later', 'found', 'mother', 'never', 'graduated', 'college', 'father', 'never', 'graduated', 'high', 'school', 'refused', 'sign', 'final', 'adoption', 'papers', 'relented', 'months', 'later', 'parents', 'promised', 'would', 'someday', 'go', 'college', '17', 'years', 'later', 'go', 'college', 'naively', 'chose', 'college', 'almost', 'expensive', 'stanford', 'workingclass', 'parents’', 'savings', 'spent', 'college', 'tuition', 'six', 'months', 'couldn’t', 'see', 'value', 'idea', 'wanted', 'life', 'idea', 'college', 'going', 'help', 'figure', 'spending', 'money', 'parents', 'saved', 'entire', 'life', 'decided', 'drop', 'trust', 'would', 'work', 'ok', 'pretty', 'scary', 'time', 'looking', 'back', 'one', 'best', 'decisions', 'ever', 'made', 'minute', 'dropped', 'could', 'stop', 'taking', 'required', 'classes', 'didn’t', 'interest', 'begin', 'dropping', 'ones', 'looked', 'interesting', 'wasn’t', 'romantic', 'didn’t', 'dorm', 'room', 'slept', 'floor', 'friends’', 'rooms', 'returned', 'coke', 'bottles', '5¢', 'deposits', 'buy', 'food', 'would', 'walk', '7', 'miles', 'across', 'town', 'every', 'sunday', 'night', 'get', 'one', 'good', 'meal', 'week', 'hare', 'krishna', 'temple', 'loved', 'much', 'stumbled', 'following', 'curiosity', 'intuition', 'turned', 'priceless', 'later', 'let', 'give', 'one', 'example', 'reed', 'college', 'time', 'offered', 'perhaps', 'best', 'calligraphy', 'instruction', 'country', 'throughout', 'campus', 'every', 'poster', 'every', 'label', 'every', 'drawer', 'beautifully', 'hand', 'calligraphed', 'dropped', 'didn’t', 'take', 'normal', 'classes', 'decided', 'take', 'calligraphy', 'class', 'learn', 'learned', 'serif', 'sans', 'serif', 'typefaces', 'varying', 'amount', 'space', 'different', 'letter', 'combinations', 'makes', 'great', 'typography', 'great', 'beautiful', 'historical', 'artistically', 'subtle', 'way', 'science', 'can’t', 'capture', 'found', 'fascinating', 'none', 'even', 'hope', 'practical', 'application', 'life', '10', 'years', 'later', 'designing', 'first', 'macintosh', 'computer', 'came', 'back', 'designed', 'mac', 'first', 'computer', 'beautiful', 'typography', 'never', 'dropped', 'single', 'course', 'college', 'mac', 'would', 'never', 'multiple', 'typefaces', 'proportionally', 'spaced', 'fonts', 'since', 'windows', 'copied', 'mac', 'it’s', 'likely', 'personal', 'computer', 'would', 'never', 'dropped', 'would', 'never', 'dropped', 'calligraphy', 'class', 'personal', 'computers', 'might', 'wonderful', 'typography', 'course', 'impossible', 'connect', 'dots', 'looking', 'forward', 'college', 'clear', 'looking', 'backward', '10', 'years', 'later', 'can’t', 'connect', 'dots', 'looking', 'forward', 'connect', 'looking', 'backward', 'trust', 'dots', 'somehow', 'connect', 'future', 'trust', 'something', '—', 'gut', 'destiny', 'life', 'karma', 'whatever', 'approach', 'never', 'let', 'made', 'difference', 'life', 'second', 'story', 'love', 'loss', 'lucky', '—', 'found', 'loved', 'early', 'life', 'woz', 'started', 'apple', 'parents’', 'garage', '20', 'worked', 'hard', '10', 'years', 'apple', 'grown', 'two', 'us', 'garage', '2', 'billion', 'company', '4000', 'employees', 'released', 'finest', 'creation', '—', 'macintosh', '—', 'year', 'earlier', 'turned', '30', 'got', 'fired', 'get', 'fired', 'company', 'started', 'well', 'apple', 'grew', 'hired', 'someone', 'thought', 'talented', 'run', 'company', 'first', 'year', 'things', 'went', 'well', 'visions', 'future', 'began', 'diverge', 'eventually', 'falling', 'board', 'directors', 'sided', '30', 'publicly', 'focus', 'entire', 'adult', 'life', 'gone', 'devastating', 'really', 'didn’t', 'know', 'months', 'felt', 'let', 'previous', 'generation', 'entrepreneurs', '—', 'dropped', 'baton', 'passed', 'met', 'david', 'packard', 'bob', 'noyce', 'tried', 'apologize', 'screwing', 'badly', 'public', 'failure', 'even', 'thought', 'running', 'away', 'valley', 'something', 'slowly', 'began', 'dawn', '—', 'still', 'loved', 'turn', 'events', 'apple', 'changed', 'one', 'bit', 'rejected', 'still', 'love', 'decided', 'start', 'didn’t', 'see', 'turned', 'getting', 'fired', 'apple', 'best', 'thing', 'could', 'ever', 'happened', 'heaviness', 'successful', 'replaced', 'lightness', 'beginner', 'less', 'sure', 'everything', 'freed', 'enter', 'one', 'creative', 'periods', 'life', 'next', 'five', 'years', 'started', 'company', 'named', 'next', 'another', 'company', 'named', 'pixar', 'fell', 'love', 'amazing', 'woman', 'would', 'become', 'wife', 'pixar', 'went', 'create', 'world’s', 'first', 'computer', 'animated', 'feature', 'film', 'toy', 'story', 'successful', 'animation', 'studio', 'world', 'remarkable', 'turn', 'events', 'apple', 'bought', 'next', 'returned', 'apple', 'technology', 'developed', 'next', 'heart', 'apple’s', 'current', 'renaissance', 'laurene', 'wonderful', 'family', 'together', 'i’m', 'pretty', 'sure', 'none', 'would', 'happened', 'hadn’t', 'fired', 'apple', 'awful', 'tasting', 'medicine', 'guess', 'patient', 'needed', 'sometimes', 'life', 'hits', 'head', 'brick', 'don’t', 'lose', 'faith', 'i’m', 'convinced', 'thing', 'kept', 'going', 'loved', 'you’ve', 'got', 'find', 'love', 'true', 'work', 'lovers', 'work', 'going', 'fill', 'large', 'part', 'life', 'way', 'truly', 'satisfied', 'believe', 'great', 'work', 'way', 'great', 'work', 'love', 'haven’t', 'found', 'yet', 'keep', 'looking', 'don’t', 'settle', 'matters', 'heart', 'you’ll', 'know', 'find', 'like', 'great', 'relationship', 'gets', 'better', 'better', 'years', 'roll', 'keep', 'looking', 'find', 'don’t', 'settle', 'third', 'story', 'death', '17', 'read', 'quote', 'went', 'something', 'like', '“if', 'live', 'day', 'last', 'someday', 'you’ll', 'certainly', 'right”', 'made', 'impression', 'since', 'past', '33', 'years', 'looked', 'mirror', 'every', 'morning', 'asked', '“if', 'today', 'last', 'day', 'life', 'would', 'want', 'today”', 'whenever', 'answer', '“no”', 'many', 'days', 'row', 'know', 'need', 'change', 'something', 'remembering', 'i’ll', 'dead', 'soon', 'important', 'tool', 'i’ve', 'ever', 'encountered', 'help', 'make', 'big', 'choices', 'life', 'almost', 'everything', '—', 'external', 'expectations', 'pride', 'fear', 'embarrassment', 'failure', '—', 'things', 'fall', 'away', 'face', 'death', 'leaving', 'truly', 'important', 'remembering', 'going', 'die', 'best', 'way', 'know', 'avoid', 'trap', 'thinking', 'something', 'lose', 'already', 'naked', 'reason', 'follow', 'heart', 'year', 'ago', 'diagnosed', 'cancer', 'scan', '730', 'morning', 'clearly', 'showed', 'tumor', 'pancreas', 'didn’t', 'even', 'know', 'pancreas', 'doctors', 'told', 'almost', 'certainly', 'type', 'cancer', 'incurable', 'expect', 'live', 'longer', 'three', 'six', 'months', 'doctor', 'advised', 'go', 'home', 'get', 'affairs', 'order', 'doctor’s', 'code', 'prepare', 'die', 'means', 'try', 'tell', 'kids', 'everything', 'thought', 'you’d', 'next', '10', 'years', 'tell', 'months', 'means', 'make', 'sure', 'everything', 'buttoned', 'easy', 'possible', 'family', 'means', 'say', 'goodbyes', 'lived', 'diagnosis', 'day', 'later', 'evening', 'biopsy', 'stuck', 'endoscope', 'throat', 'stomach', 'intestines', 'put', 'needle', 'pancreas', 'got', 'cells', 'tumor', 'sedated', 'wife', 'told', 'viewed', 'cells', 'microscope', 'doctors', 'started', 'crying', 'turned', 'rare', 'form', 'pancreatic', 'cancer', 'curable', 'surgery', 'surgery', 'i’m', 'fine', 'closest', 'i’ve', 'facing', 'death', 'hope', 'it’s', 'closest', 'get', 'decades', 'lived', 'say', 'bit', 'certainty', 'death', 'useful', 'purely', 'intellectual', 'concept', 'one', 'wants', 'die', 'even', 'people', 'want', 'go', 'heaven', 'don’t', 'want', 'die', 'get', 'yet', 'death', 'destination', 'share', 'one', 'ever', 'escaped', 'death', 'likely', 'single', 'best', 'invention', 'life', 'life’s', 'change', 'agent', 'clears', 'old', 'make', 'way', 'new', 'right', 'new', 'someday', 'long', 'gradually', 'become', 'old', 'cleared', 'away', 'sorry', 'dramatic', 'quite', 'true', 'time', 'limited', 'don’t', 'waste', 'living', 'someone', 'else’s', 'life', 'don’t', 'trapped', 'dogma', '—', 'living', 'results', 'people’s', 'thinking', 'don’t', 'let', 'noise', 'others’', 'opinions', 'drown', 'inner', 'voice', 'important', 'courage', 'follow', 'heart', 'intuition', 'somehow', 'already', 'know', 'truly', 'want', 'become', 'everything', 'else', 'secondary', 'young', 'amazing', 'publication', 'called', 'whole', 'earth', 'catalog', 'one', 'bibles', 'generation', 'created', 'fellow', 'named', 'stewart', 'brand', 'far', 'menlo', 'park', 'brought', 'life', 'poetic', 'touch', 'late', '1960s', 'personal', 'computers', 'desktop', 'publishing', 'made', 'typewriters', 'scissors', 'polaroid', 'cameras', 'sort', 'like', 'google', 'paperback', 'form', '35', 'years', 'google', 'came', 'along', 'idealistic', 'overflowing', 'neat', 'tools', 'great', 'notions', 'stewart', 'team', 'put', 'several', 'issues', 'whole', 'earth', 'catalog', 'run', 'course', 'put', 'final', 'issue', 'mid1970s', 'age', 'back', 'cover', 'final', 'issue', 'photograph', 'early', 'morning', 'country', 'road', 'kind', 'might', 'find', 'hitchhiking', 'adventurous', 'beneath', 'words', '“stay', 'hungry', 'stay', 'foolish”', 'farewell', 'message', 'signed', 'stay', 'hungry', 'stay', 'foolish', 'always', 'wished', 'graduate', 'begin', 'anew', 'wish', 'stay', 'hungry', 'stay', 'foolish', 'thank', 'much']\n"
          ]
        }
      ],
      "source": [
        "## 4. Stopwords: removal of words that dont contribute to the end meaning of the sentence\n",
        "stop_words = [\"i\", \"me\", \"my\", \"myself\", \"we\", \"our\", \"ours\", \"ourselves\", \"you\", \"your\", \"yours\", \"yourself\",\n",
        "              \"yourselves\", \"he\", \"him\", \"his\", \"himself\", \"she\", \"her\", \"hers\", \"herself\", \"it\", \"its\", \"itself\",\n",
        "              \"they\", \"them\", \"their\", \"theirs\", \"themselves\", \"what\", \"which\", \"who\", \"whom\", \"this\", \"that\", \"these\",\n",
        "              \"those\", \"am\", \"is\", \"are\", \"was\", \"were\", \"be\", \"been\", \"being\", \"have\", \"has\", \"had\", \"having\", \"do\",\n",
        "              \"does\", \"did\", \"doing\", \"a\", \"an\", \"the\", \"and\", \"but\", \"if\", \"or\", \"because\", \"as\", \"until\", \"while\",\n",
        "              \"of\", \"at\", \"by\", \"for\", \"with\", \"about\", \"against\", \"between\", \"into\", \"through\", \"during\", \"before\",\n",
        "              \"after\", \"above\", \"below\", \"to\", \"from\", \"up\", \"down\", \"in\", \"out\", \"on\", \"off\", \"over\", \"under\", \"again\",\n",
        "              \"further\", \"then\", \"once\", \"here\", \"there\", \"when\", \"where\", \"why\", \"how\", \"all\", \"any\", \"both\", \"each\",\n",
        "              \"few\", \"more\", \"most\", \"other\", \"some\", \"such\", \"no\", \"nor\", \"not\", \"only\", \"own\", \"same\", \"so\", \"than\",\n",
        "              \"too\", \"very\", \"s\", \"t\", \"can\", \"will\", \"just\", \"don\", \"should\", \"now\"]\n",
        "\n",
        "final_words = []\n",
        "for word in tokenized_words:\n",
        "  if word not in stop_words:\n",
        "    final_words.append(word)\n",
        "\n",
        "print(final_words)"
      ]
    },
    {
      "cell_type": "markdown",
      "metadata": {
        "id": "VWKRDWL8a7kl"
      },
      "source": [
        "**NLP EMOTIONS ALGORITHMS**\n",
        "1. READING OUR TEXT FILE CONTAINING EMOTIONS MARKERS.\n",
        "2. CREATE A NEW LIST APPENDING EMOTIONS IF WORD KEYS FROM FINAL WORDS FOUND.\n",
        "3. COUNTING THE NUMBER OF EMOTIONS OCCURENCE.\n",
        "4. GRAPHING EMOTIONS OCCURENCE"
      ]
    },
    {
      "cell_type": "code",
      "execution_count": 101,
      "metadata": {
        "colab": {
          "base_uri": "https://localhost:8080/"
        },
        "id": "8k07PFODbIEG",
        "outputId": "3f3142d7-e7a8-4281-f75f-ff4c2ea96600"
      },
      "outputs": [
        {
          "name": "stdout",
          "output_type": "stream",
          "text": [
            "[' happy', ' happy', ' attached', ' happy', ' attracted', ' alone', ' free', ' hated', ' happy', ' entitled', ' happy', ' loved', ' hated', ' entitled']\n"
          ]
        }
      ],
      "source": [
        "## 1. Reading text file containing emotions:Check if the word in the final_words list is also present in emotions\n",
        "##   * if found, then extract the word and emotion using split\n",
        "emotion_list = []\n",
        "with open('emotions.txt', 'r') as f:\n",
        "  for line in f:\n",
        "    emotions = line.replace('\\n','').replace(',','').replace(\"'\",'').strip() ## use replace func to remove space btw text, to remove comma, and to remove''. then you use strip func to remove xtra backspaces and whitespaces\n",
        "    #print(emotions)\n",
        "    ##  extract the word and emotion using split\n",
        "    word, emotion = emotions.split(':')\n",
        "    #print(f'Word: {word} Emotions: {emotion}')\n",
        "\n",
        "## 2. If word is present, then Add the emotion to a new list emotion_list\n",
        "    if word in final_words:\n",
        "      emotion_list.append(emotion)\n",
        "\n",
        "\n",
        "\n",
        "#     emotions = f.read()\n",
        "# print(emotions)\n",
        "\n",
        "\n",
        "\n",
        "print(emotion_list)"
      ]
    },
    {
      "cell_type": "code",
      "execution_count": 102,
      "metadata": {
        "colab": {
          "base_uri": "https://localhost:8080/"
        },
        "id": "uoMKdug6f1Mh",
        "outputId": "3b24246b-ca94-4377-c440-59e7cd7800e4"
      },
      "outputs": [
        {
          "name": "stdout",
          "output_type": "stream",
          "text": [
            "Counter({' happy': 5, ' hated': 2, ' entitled': 2, ' attached': 1, ' attracted': 1, ' alone': 1, ' free': 1, ' loved': 1})\n"
          ]
        }
      ],
      "source": [
        "## 3. finally, count each emotion in the emotion list\n",
        "from collections import Counter\n",
        "w = Counter(emotion_list)\n",
        "\n",
        "print(w)"
      ]
    },
    {
      "cell_type": "code",
      "execution_count": 103,
      "metadata": {
        "colab": {
          "base_uri": "https://localhost:8080/",
          "height": 419
        },
        "id": "VwZzDFyeoJ7j",
        "outputId": "3af0076d-2c4f-4ca0-f3c7-5977fe0791bb"
      },
      "outputs": [
        {
          "data": {
            "image/png": "[encoded data removed]",
            "text/plain": [
              "<Figure size 640x480 with 1 Axes>"
            ]
          },
          "metadata": {},
          "output_type": "display_data"
        }
      ],
      "source": [
        "## 4. PLOTTING EMOTIONS OCCURENCE WITH MATPLOTLIB\n",
        "import matplotlib.pyplot as plt\n",
        "fig, ax1 = plt.subplots()\n",
        "ax1.bar(w.keys(), w.values())\n",
        "fig.autofmt_xdate()\n",
        "plt.savefig('graph.png')\n",
        "plt.show()"
      ]
    },
    {
      "cell_type": "markdown",
      "metadata": {
        "id": "Ghk-vbi93k4F"
      },
      "source": [
        "**MISCELLANOUS: GETTING TWEETS.**"
      ]
    },
    {
      "cell_type": "code",
      "execution_count": null,
      "metadata": {
        "id": "BggZxBv4hO1t"
      },
      "outputs": [],
      "source": [
        "## installing modules to extract tweets from twitter\n",
        "#pip install GetOldTweets3\n",
        "#!pip install snscrape\n",
        "\n"
      ]
    },
    {
      "cell_type": "code",
      "execution_count": null,
      "metadata": {
        "id": "yZml3E4nxtVG"
      },
      "outputs": [],
      "source": [
        "'''\n",
        "import GetOldTweets3 as got\n",
        "\n",
        "def get_tweets():\n",
        "  tweetCriteria = got.manager.TweetCriteria().setQuerySearch('corona virus')\\\n",
        "    .setSince(\"2015-05-01\")\\\n",
        "    .setUntil(\"2023-09-30\")\\\n",
        "    .setMaxTweets(10)\n",
        "  tweets = got.manager.TweetManager.getTweets(tweetCriteria)\n",
        "  text_tweets = [[tweet.text] for tweet in tweets]\n",
        "  print(text_tweets)\n",
        "\n",
        "get_tweets()\n",
        "'''\n",
        "\n",
        "import snscrape.modules.twitter as sntwitter\n",
        "\n",
        "# Creating list to append tweet data to\n",
        "tweets = []\n",
        "\n",
        "# Using TwitterSearchScraper to scrape data and append tweets to list\n",
        "for i, tweet in enumerate(sntwitter.TwitterSearchScraper('corona virus since:2015-05-01 until:2023-09-30').get_items()):\n",
        "    if i > 1:\n",
        "        break\n",
        "    tweets.append(tweet.content)\n",
        "\n",
        "# Printing the tweets\n",
        "print(tweets)\n"
      ]
    },
    {
      "cell_type": "markdown",
      "metadata": {
        "id": "toGEKBet4SRX"
      },
      "source": [
        "**USING NLTK LIBRARY FOR SENTIMENT ANALYSIS**\n"
      ]
    },
    {
      "cell_type": "code",
      "execution_count": null,
      "metadata": {
        "id": "8-dzs2qd4b28"
      },
      "outputs": [],
      "source": [
        "pip install nltk\n"
      ]
    },
    {
      "cell_type": "code",
      "execution_count": null,
      "metadata": {
        "id": "z45BMyuC4nb8"
      },
      "outputs": [],
      "source": [
        "import nltk\n",
        "nltk.download('all') ## downloading all nltk dependencies and packages"
      ]
    },
    {
      "cell_type": "code",
      "execution_count": 88,
      "metadata": {
        "colab": {
          "base_uri": "https://localhost:8080/"
        },
        "id": "q_hgGiGO62aQ",
        "outputId": "8231a8d0-f325-4a6b-9fab-e6c2057623b4"
      },
      "outputs": [
        {
          "name": "stdout",
          "output_type": "stream",
          "text": [
            "['i', 'am', 'honored', 'to', 'be', 'with', 'you', 'today', 'at', 'your', 'commencement', 'from', 'one', 'of', 'the', 'finest', 'universities', 'in', 'the', 'world', 'i', 'never', 'graduated', 'from', 'college', 'truth', 'be', 'told', 'this', 'is', 'the', 'closest', 'i', '’', 've', 'ever', 'gotten', 'to', 'a', 'college', 'graduation', 'today', 'i', 'want', 'to', 'tell', 'you', 'three', 'stories', 'from', 'my', 'life', 'that', '’', 's', 'it', 'no', 'big', 'deal', 'just', 'three', 'stories', 'related', 'to', 'this', 'story', '2005', 'stanford', 'commencement', 'coverage', 'the', 'first', 'story', 'is', 'about', 'connecting', 'the', 'dots', 'i', 'dropped', 'out', 'of', 'reed', 'college', 'after', 'the', 'first', '6', 'months', 'but', 'then', 'stayed', 'around', 'as', 'a', 'dropin', 'for', 'another', '18', 'months', 'or', 'so', 'before', 'i', 'really', 'quit', 'so', 'why', 'did', 'i', 'drop', 'out', 'it', 'started', 'before', 'i', 'was', 'born', 'my', 'biological', 'mother', 'was', 'a', 'young', 'unwed', 'college', 'graduate', 'student', 'and', 'she', 'decided', 'to', 'put', 'me', 'up', 'for', 'adoption', 'she', 'felt', 'very', 'strongly', 'that', 'i', 'should', 'be', 'adopted', 'by', 'college', 'graduates', 'so', 'everything', 'was', 'all', 'set', 'for', 'me', 'to', 'be', 'adopted', 'at', 'birth', 'by', 'a', 'lawyer', 'and', 'his', 'wife', 'except', 'that', 'when', 'i', 'popped', 'out', 'they', 'decided', 'at', 'the', 'last', 'minute', 'that', 'they', 'really', 'wanted', 'a', 'girl', 'so', 'my', 'parents', 'who', 'were', 'on', 'a', 'waiting', 'list', 'got', 'a', 'call', 'in', 'the', 'middle', 'of', 'the', 'night', 'asking', '“', 'we', 'have', 'an', 'unexpected', 'baby', 'boy', 'do', 'you', 'want', 'him', '”', 'they', 'said', '“', 'of', 'course', '”', 'my', 'biological', 'mother', 'later', 'found', 'out', 'that', 'my', 'mother', 'had', 'never', 'graduated', 'from', 'college', 'and', 'that', 'my', 'father', 'had', 'never', 'graduated', 'from', 'high', 'school', 'she', 'refused', 'to', 'sign', 'the', 'final', 'adoption', 'papers', 'she', 'only', 'relented', 'a', 'few', 'months', 'later', 'when', 'my', 'parents', 'promised', 'that', 'i', 'would', 'someday', 'go', 'to', 'college', 'and', '17', 'years', 'later', 'i', 'did', 'go', 'to', 'college', 'but', 'i', 'naively', 'chose', 'a', 'college', 'that', 'was', 'almost', 'as', 'expensive', 'as', 'stanford', 'and', 'all', 'of', 'my', 'workingclass', 'parents', '’', 'savings', 'were', 'being', 'spent', 'on', 'my', 'college', 'tuition', 'after', 'six', 'months', 'i', 'couldn', '’', 't', 'see', 'the', 'value', 'in', 'it', 'i', 'had', 'no', 'idea', 'what', 'i', 'wanted', 'to', 'do', 'with', 'my', 'life', 'and', 'no', 'idea', 'how', 'college', 'was', 'going', 'to', 'help', 'me', 'figure', 'it', 'out', 'and', 'here', 'i', 'was', 'spending', 'all', 'of', 'the', 'money', 'my', 'parents', 'had', 'saved', 'their', 'entire', 'life', 'so', 'i', 'decided', 'to', 'drop', 'out', 'and', 'trust', 'that', 'it', 'would', 'all', 'work', 'out', 'ok', 'it', 'was', 'pretty', 'scary', 'at', 'the', 'time', 'but', 'looking', 'back', 'it', 'was', 'one', 'of', 'the', 'best', 'decisions', 'i', 'ever', 'made', 'the', 'minute', 'i', 'dropped', 'out', 'i', 'could', 'stop', 'taking', 'the', 'required', 'classes', 'that', 'didn', '’', 't', 'interest', 'me', 'and', 'begin', 'dropping', 'in', 'on', 'the', 'ones', 'that', 'looked', 'interesting', 'it', 'wasn', '’', 't', 'all', 'romantic', 'i', 'didn', '’', 't', 'have', 'a', 'dorm', 'room', 'so', 'i', 'slept', 'on', 'the', 'floor', 'in', 'friends', '’', 'rooms', 'i', 'returned', 'coke', 'bottles', 'for', 'the', '5¢', 'deposits', 'to', 'buy', 'food', 'with', 'and', 'i', 'would', 'walk', 'the', '7', 'miles', 'across', 'town', 'every', 'sunday', 'night', 'to', 'get', 'one', 'good', 'meal', 'a', 'week', 'at', 'the', 'hare', 'krishna', 'temple', 'i', 'loved', 'it', 'and', 'much', 'of', 'what', 'i', 'stumbled', 'into', 'by', 'following', 'my', 'curiosity', 'and', 'intuition', 'turned', 'out', 'to', 'be', 'priceless', 'later', 'on', 'let', 'me', 'give', 'you', 'one', 'example', 'reed', 'college', 'at', 'that', 'time', 'offered', 'perhaps', 'the', 'best', 'calligraphy', 'instruction', 'in', 'the', 'country', 'throughout', 'the', 'campus', 'every', 'poster', 'every', 'label', 'on', 'every', 'drawer', 'was', 'beautifully', 'hand', 'calligraphed', 'because', 'i', 'had', 'dropped', 'out', 'and', 'didn', '’', 't', 'have', 'to', 'take', 'the', 'normal', 'classes', 'i', 'decided', 'to', 'take', 'a', 'calligraphy', 'class', 'to', 'learn', 'how', 'to', 'do', 'this', 'i', 'learned', 'about', 'serif', 'and', 'sans', 'serif', 'typefaces', 'about', 'varying', 'the', 'amount', 'of', 'space', 'between', 'different', 'letter', 'combinations', 'about', 'what', 'makes', 'great', 'typography', 'great', 'it', 'was', 'beautiful', 'historical', 'artistically', 'subtle', 'in', 'a', 'way', 'that', 'science', 'can', '’', 't', 'capture', 'and', 'i', 'found', 'it', 'fascinating', 'none', 'of', 'this', 'had', 'even', 'a', 'hope', 'of', 'any', 'practical', 'application', 'in', 'my', 'life', 'but', '10', 'years', 'later', 'when', 'we', 'were', 'designing', 'the', 'first', 'macintosh', 'computer', 'it', 'all', 'came', 'back', 'to', 'me', 'and', 'we', 'designed', 'it', 'all', 'into', 'the', 'mac', 'it', 'was', 'the', 'first', 'computer', 'with', 'beautiful', 'typography', 'if', 'i', 'had', 'never', 'dropped', 'in', 'on', 'that', 'single', 'course', 'in', 'college', 'the', 'mac', 'would', 'have', 'never', 'had', 'multiple', 'typefaces', 'or', 'proportionally', 'spaced', 'fonts', 'and', 'since', 'windows', 'just', 'copied', 'the', 'mac', 'it', '’', 's', 'likely', 'that', 'no', 'personal', 'computer', 'would', 'have', 'them', 'if', 'i', 'had', 'never', 'dropped', 'out', 'i', 'would', 'have', 'never', 'dropped', 'in', 'on', 'this', 'calligraphy', 'class', 'and', 'personal', 'computers', 'might', 'not', 'have', 'the', 'wonderful', 'typography', 'that', 'they', 'do', 'of', 'course', 'it', 'was', 'impossible', 'to', 'connect', 'the', 'dots', 'looking', 'forward', 'when', 'i', 'was', 'in', 'college', 'but', 'it', 'was', 'very', 'very', 'clear', 'looking', 'backward', '10', 'years', 'later', 'again', 'you', 'can', '’', 't', 'connect', 'the', 'dots', 'looking', 'forward', 'you', 'can', 'only', 'connect', 'them', 'looking', 'backward', 'so', 'you', 'have', 'to', 'trust', 'that', 'the', 'dots', 'will', 'somehow', 'connect', 'in', 'your', 'future', 'you', 'have', 'to', 'trust', 'in', 'something', '—', 'your', 'gut', 'destiny', 'life', 'karma', 'whatever', 'this', 'approach', 'has', 'never', 'let', 'me', 'down', 'and', 'it', 'has', 'made', 'all', 'the', 'difference', 'in', 'my', 'life', 'my', 'second', 'story', 'is', 'about', 'love', 'and', 'loss', 'i', 'was', 'lucky', '—', 'i', 'found', 'what', 'i', 'loved', 'to', 'do', 'early', 'in', 'life', 'woz', 'and', 'i', 'started', 'apple', 'in', 'my', 'parents', '’', 'garage', 'when', 'i', 'was', '20', 'we', 'worked', 'hard', 'and', 'in', '10', 'years', 'apple', 'had', 'grown', 'from', 'just', 'the', 'two', 'of', 'us', 'in', 'a', 'garage', 'into', 'a', '2', 'billion', 'company', 'with', 'over', '4000', 'employees', 'we', 'had', 'just', 'released', 'our', 'finest', 'creation', '—', 'the', 'macintosh', '—', 'a', 'year', 'earlier', 'and', 'i', 'had', 'just', 'turned', '30', 'and', 'then', 'i', 'got', 'fired', 'how', 'can', 'you', 'get', 'fired', 'from', 'a', 'company', 'you', 'started', 'well', 'as', 'apple', 'grew', 'we', 'hired', 'someone', 'who', 'i', 'thought', 'was', 'very', 'talented', 'to', 'run', 'the', 'company', 'with', 'me', 'and', 'for', 'the', 'first', 'year', 'or', 'so', 'things', 'went', 'well', 'but', 'then', 'our', 'visions', 'of', 'the', 'future', 'began', 'to', 'diverge', 'and', 'eventually', 'we', 'had', 'a', 'falling', 'out', 'when', 'we', 'did', 'our', 'board', 'of', 'directors', 'sided', 'with', 'him', 'so', 'at', '30', 'i', 'was', 'out', 'and', 'very', 'publicly', 'out', 'what', 'had', 'been', 'the', 'focus', 'of', 'my', 'entire', 'adult', 'life', 'was', 'gone', 'and', 'it', 'was', 'devastating', 'i', 'really', 'didn', '’', 't', 'know', 'what', 'to', 'do', 'for', 'a', 'few', 'months', 'i', 'felt', 'that', 'i', 'had', 'let', 'the', 'previous', 'generation', 'of', 'entrepreneurs', 'down', '—', 'that', 'i', 'had', 'dropped', 'the', 'baton', 'as', 'it', 'was', 'being', 'passed', 'to', 'me', 'i', 'met', 'with', 'david', 'packard', 'and', 'bob', 'noyce', 'and', 'tried', 'to', 'apologize', 'for', 'screwing', 'up', 'so', 'badly', 'i', 'was', 'a', 'very', 'public', 'failure', 'and', 'i', 'even', 'thought', 'about', 'running', 'away', 'from', 'the', 'valley', 'but', 'something', 'slowly', 'began', 'to', 'dawn', 'on', 'me', '—', 'i', 'still', 'loved', 'what', 'i', 'did', 'the', 'turn', 'of', 'events', 'at', 'apple', 'had', 'not', 'changed', 'that', 'one', 'bit', 'i', 'had', 'been', 'rejected', 'but', 'i', 'was', 'still', 'in', 'love', 'and', 'so', 'i', 'decided', 'to', 'start', 'over', 'i', 'didn', '’', 't', 'see', 'it', 'then', 'but', 'it', 'turned', 'out', 'that', 'getting', 'fired', 'from', 'apple', 'was', 'the', 'best', 'thing', 'that', 'could', 'have', 'ever', 'happened', 'to', 'me', 'the', 'heaviness', 'of', 'being', 'successful', 'was', 'replaced', 'by', 'the', 'lightness', 'of', 'being', 'a', 'beginner', 'again', 'less', 'sure', 'about', 'everything', 'it', 'freed', 'me', 'to', 'enter', 'one', 'of', 'the', 'most', 'creative', 'periods', 'of', 'my', 'life', 'during', 'the', 'next', 'five', 'years', 'i', 'started', 'a', 'company', 'named', 'next', 'another', 'company', 'named', 'pixar', 'and', 'fell', 'in', 'love', 'with', 'an', 'amazing', 'woman', 'who', 'would', 'become', 'my', 'wife', 'pixar', 'went', 'on', 'to', 'create', 'the', 'world', '’', 's', 'first', 'computer', 'animated', 'feature', 'film', 'toy', 'story', 'and', 'is', 'now', 'the', 'most', 'successful', 'animation', 'studio', 'in', 'the', 'world', 'in', 'a', 'remarkable', 'turn', 'of', 'events', 'apple', 'bought', 'next', 'i', 'returned', 'to', 'apple', 'and', 'the', 'technology', 'we', 'developed', 'at', 'next', 'is', 'at', 'the', 'heart', 'of', 'apple', '’', 's', 'current', 'renaissance', 'and', 'laurene', 'and', 'i', 'have', 'a', 'wonderful', 'family', 'together', 'i', '’', 'm', 'pretty', 'sure', 'none', 'of', 'this', 'would', 'have', 'happened', 'if', 'i', 'hadn', '’', 't', 'been', 'fired', 'from', 'apple', 'it', 'was', 'awful', 'tasting', 'medicine', 'but', 'i', 'guess', 'the', 'patient', 'needed', 'it', 'sometimes', 'life', 'hits', 'you', 'in', 'the', 'head', 'with', 'a', 'brick', 'don', '’', 't', 'lose', 'faith', 'i', '’', 'm', 'convinced', 'that', 'the', 'only', 'thing', 'that', 'kept', 'me', 'going', 'was', 'that', 'i', 'loved', 'what', 'i', 'did', 'you', '’', 've', 'got', 'to', 'find', 'what', 'you', 'love', 'and', 'that', 'is', 'as', 'true', 'for', 'your', 'work', 'as', 'it', 'is', 'for', 'your', 'lovers', 'your', 'work', 'is', 'going', 'to', 'fill', 'a', 'large', 'part', 'of', 'your', 'life', 'and', 'the', 'only', 'way', 'to', 'be', 'truly', 'satisfied', 'is', 'to', 'do', 'what', 'you', 'believe', 'is', 'great', 'work', 'and', 'the', 'only', 'way', 'to', 'do', 'great', 'work', 'is', 'to', 'love', 'what', 'you', 'do', 'if', 'you', 'haven', '’', 't', 'found', 'it', 'yet', 'keep', 'looking', 'don', '’', 't', 'settle', 'as', 'with', 'all', 'matters', 'of', 'the', 'heart', 'you', '’', 'll', 'know', 'when', 'you', 'find', 'it', 'and', 'like', 'any', 'great', 'relationship', 'it', 'just', 'gets', 'better', 'and', 'better', 'as', 'the', 'years', 'roll', 'on', 'so', 'keep', 'looking', 'until', 'you', 'find', 'it', 'don', '’', 't', 'settle', 'my', 'third', 'story', 'is', 'about', 'death', 'when', 'i', 'was', '17', 'i', 'read', 'a', 'quote', 'that', 'went', 'something', 'like', '“', 'if', 'you', 'live', 'each', 'day', 'as', 'if', 'it', 'was', 'your', 'last', 'someday', 'you', '’', 'll', 'most', 'certainly', 'be', 'right', '”', 'it', 'made', 'an', 'impression', 'on', 'me', 'and', 'since', 'then', 'for', 'the', 'past', '33', 'years', 'i', 'have', 'looked', 'in', 'the', 'mirror', 'every', 'morning', 'and', 'asked', 'myself', '“', 'if', 'today', 'were', 'the', 'last', 'day', 'of', 'my', 'life', 'would', 'i', 'want', 'to', 'do', 'what', 'i', 'am', 'about', 'to', 'do', 'today', '”', 'and', 'whenever', 'the', 'answer', 'has', 'been', '“', 'no', '”', 'for', 'too', 'many', 'days', 'in', 'a', 'row', 'i', 'know', 'i', 'need', 'to', 'change', 'something', 'remembering', 'that', 'i', '’', 'll', 'be', 'dead', 'soon', 'is', 'the', 'most', 'important', 'tool', 'i', '’', 've', 'ever', 'encountered', 'to', 'help', 'me', 'make', 'the', 'big', 'choices', 'in', 'life', 'because', 'almost', 'everything', '—', 'all', 'external', 'expectations', 'all', 'pride', 'all', 'fear', 'of', 'embarrassment', 'or', 'failure', '—', 'these', 'things', 'just', 'fall', 'away', 'in', 'the', 'face', 'of', 'death', 'leaving', 'only', 'what', 'is', 'truly', 'important', 'remembering', 'that', 'you', 'are', 'going', 'to', 'die', 'is', 'the', 'best', 'way', 'i', 'know', 'to', 'avoid', 'the', 'trap', 'of', 'thinking', 'you', 'have', 'something', 'to', 'lose', 'you', 'are', 'already', 'naked', 'there', 'is', 'no', 'reason', 'not', 'to', 'follow', 'your', 'heart', 'about', 'a', 'year', 'ago', 'i', 'was', 'diagnosed', 'with', 'cancer', 'i', 'had', 'a', 'scan', 'at', '730', 'in', 'the', 'morning', 'and', 'it', 'clearly', 'showed', 'a', 'tumor', 'on', 'my', 'pancreas', 'i', 'didn', '’', 't', 'even', 'know', 'what', 'a', 'pancreas', 'was', 'the', 'doctors', 'told', 'me', 'this', 'was', 'almost', 'certainly', 'a', 'type', 'of', 'cancer', 'that', 'is', 'incurable', 'and', 'that', 'i', 'should', 'expect', 'to', 'live', 'no', 'longer', 'than', 'three', 'to', 'six', 'months', 'my', 'doctor', 'advised', 'me', 'to', 'go', 'home', 'and', 'get', 'my', 'affairs', 'in', 'order', 'which', 'is', 'doctor', '’', 's', 'code', 'for', 'prepare', 'to', 'die', 'it', 'means', 'to', 'try', 'to', 'tell', 'your', 'kids', 'everything', 'you', 'thought', 'you', '’', 'd', 'have', 'the', 'next', '10', 'years', 'to', 'tell', 'them', 'in', 'just', 'a', 'few', 'months', 'it', 'means', 'to', 'make', 'sure', 'everything', 'is', 'buttoned', 'up', 'so', 'that', 'it', 'will', 'be', 'as', 'easy', 'as', 'possible', 'for', 'your', 'family', 'it', 'means', 'to', 'say', 'your', 'goodbyes', 'i', 'lived', 'with', 'that', 'diagnosis', 'all', 'day', 'later', 'that', 'evening', 'i', 'had', 'a', 'biopsy', 'where', 'they', 'stuck', 'an', 'endoscope', 'down', 'my', 'throat', 'through', 'my', 'stomach', 'and', 'into', 'my', 'intestines', 'put', 'a', 'needle', 'into', 'my', 'pancreas', 'and', 'got', 'a', 'few', 'cells', 'from', 'the', 'tumor', 'i', 'was', 'sedated', 'but', 'my', 'wife', 'who', 'was', 'there', 'told', 'me', 'that', 'when', 'they', 'viewed', 'the', 'cells', 'under', 'a', 'microscope', 'the', 'doctors', 'started', 'crying', 'because', 'it', 'turned', 'out', 'to', 'be', 'a', 'very', 'rare', 'form', 'of', 'pancreatic', 'cancer', 'that', 'is', 'curable', 'with', 'surgery', 'i', 'had', 'the', 'surgery', 'and', 'i', '’', 'm', 'fine', 'now', 'this', 'was', 'the', 'closest', 'i', '’', 've', 'been', 'to', 'facing', 'death', 'and', 'i', 'hope', 'it', '’', 's', 'the', 'closest', 'i', 'get', 'for', 'a', 'few', 'more', 'decades', 'having', 'lived', 'through', 'it', 'i', 'can', 'now', 'say', 'this', 'to', 'you', 'with', 'a', 'bit', 'more', 'certainty', 'than', 'when', 'death', 'was', 'a', 'useful', 'but', 'purely', 'intellectual', 'concept', 'no', 'one', 'wants', 'to', 'die', 'even', 'people', 'who', 'want', 'to', 'go', 'to', 'heaven', 'don', '’', 't', 'want', 'to', 'die', 'to', 'get', 'there', 'and', 'yet', 'death', 'is', 'the', 'destination', 'we', 'all', 'share', 'no', 'one', 'has', 'ever', 'escaped', 'it', 'and', 'that', 'is', 'as', 'it', 'should', 'be', 'because', 'death', 'is', 'very', 'likely', 'the', 'single', 'best', 'invention', 'of', 'life', 'it', 'is', 'life', '’', 's', 'change', 'agent', 'it', 'clears', 'out', 'the', 'old', 'to', 'make', 'way', 'for', 'the', 'new', 'right', 'now', 'the', 'new', 'is', 'you', 'but', 'someday', 'not', 'too', 'long', 'from', 'now', 'you', 'will', 'gradually', 'become', 'the', 'old', 'and', 'be', 'cleared', 'away', 'sorry', 'to', 'be', 'so', 'dramatic', 'but', 'it', 'is', 'quite', 'true', 'your', 'time', 'is', 'limited', 'so', 'don', '’', 't', 'waste', 'it', 'living', 'someone', 'else', '’', 's', 'life', 'don', '’', 't', 'be', 'trapped', 'by', 'dogma', '—', 'which', 'is', 'living', 'with', 'the', 'results', 'of', 'other', 'people', '’', 's', 'thinking', 'don', '’', 't', 'let', 'the', 'noise', 'of', 'others', '’', 'opinions', 'drown', 'out', 'your', 'own', 'inner', 'voice', 'and', 'most', 'important', 'have', 'the', 'courage', 'to', 'follow', 'your', 'heart', 'and', 'intuition', 'they', 'somehow', 'already', 'know', 'what', 'you', 'truly', 'want', 'to', 'become', 'everything', 'else', 'is', 'secondary', 'when', 'i', 'was', 'young', 'there', 'was', 'an', 'amazing', 'publication', 'called', 'the', 'whole', 'earth', 'catalog', 'which', 'was', 'one', 'of', 'the', 'bibles', 'of', 'my', 'generation', 'it', 'was', 'created', 'by', 'a', 'fellow', 'named', 'stewart', 'brand', 'not', 'far', 'from', 'here', 'in', 'menlo', 'park', 'and', 'he', 'brought', 'it', 'to', 'life', 'with', 'his', 'poetic', 'touch', 'this', 'was', 'in', 'the', 'late', '1960s', 'before', 'personal', 'computers', 'and', 'desktop', 'publishing', 'so', 'it', 'was', 'all', 'made', 'with', 'typewriters', 'scissors', 'and', 'polaroid', 'cameras', 'it', 'was', 'sort', 'of', 'like', 'google', 'in', 'paperback', 'form', '35', 'years', 'before', 'google', 'came', 'along', 'it', 'was', 'idealistic', 'and', 'overflowing', 'with', 'neat', 'tools', 'and', 'great', 'notions', 'stewart', 'and', 'his', 'team', 'put', 'out', 'several', 'issues', 'of', 'the', 'whole', 'earth', 'catalog', 'and', 'then', 'when', 'it', 'had', 'run', 'its', 'course', 'they', 'put', 'out', 'a', 'final', 'issue', 'it', 'was', 'the', 'mid1970s', 'and', 'i', 'was', 'your', 'age', 'on', 'the', 'back', 'cover', 'of', 'their', 'final', 'issue', 'was', 'a', 'photograph', 'of', 'an', 'early', 'morning', 'country', 'road', 'the', 'kind', 'you', 'might', 'find', 'yourself', 'hitchhiking', 'on', 'if', 'you', 'were', 'so', 'adventurous', 'beneath', 'it', 'were', 'the', 'words', '“', 'stay', 'hungry', 'stay', 'foolish', '”', 'it', 'was', 'their', 'farewell', 'message', 'as', 'they', 'signed', 'off', 'stay', 'hungry', 'stay', 'foolish', 'and', 'i', 'have', 'always', 'wished', 'that', 'for', 'myself', 'and', 'now', 'as', 'you', 'graduate', 'to', 'begin', 'anew', 'i', 'wish', 'that', 'for', 'you', 'stay', 'hungry', 'stay', 'foolish', 'thank', 'you', 'all', 'very', 'much']\n"
          ]
        }
      ],
      "source": [
        "from nltk.tokenize import word_tokenize\n",
        "## 3a. Tokenization: separating each word that makes up a sentence with a quotes without using split func since it has a poor time complexity\n",
        "tokenizzed_words = word_tokenize(cleaned_text, 'english')\n",
        "print(tokenizzed_words)"
      ]
    },
    {
      "cell_type": "code",
      "execution_count": 90,
      "metadata": {
        "colab": {
          "base_uri": "https://localhost:8080/"
        },
        "id": "yzR6vxrS7X46",
        "outputId": "a828e026-73d5-449c-e7c1-1d6550e6e4d5"
      },
      "outputs": [
        {
          "name": "stdout",
          "output_type": "stream",
          "text": [
            "['honored', 'today', 'commencement', 'one', 'finest', 'universities', 'world', 'never', 'graduated', 'college', 'truth', 'told', 'closest', '’', 'ever', 'gotten', 'college', 'graduation', 'today', 'want', 'tell', 'three', 'stories', 'life', '’', 'big', 'deal', 'three', 'stories', 'related', 'story', '2005', 'stanford', 'commencement', 'coverage', 'first', 'story', 'connecting', 'dots', 'dropped', 'reed', 'college', 'first', '6', 'months', 'stayed', 'around', 'dropin', 'another', '18', 'months', 'really', 'quit', 'drop', 'started', 'born', 'biological', 'mother', 'young', 'unwed', 'college', 'graduate', 'student', 'decided', 'put', 'adoption', 'felt', 'strongly', 'adopted', 'college', 'graduates', 'everything', 'set', 'adopted', 'birth', 'lawyer', 'wife', 'except', 'popped', 'decided', 'last', 'minute', 'really', 'wanted', 'girl', 'parents', 'waiting', 'list', 'got', 'call', 'middle', 'night', 'asking', '“', 'unexpected', 'baby', 'boy', 'want', '”', 'said', '“', 'course', '”', 'biological', 'mother', 'later', 'found', 'mother', 'never', 'graduated', 'college', 'father', 'never', 'graduated', 'high', 'school', 'refused', 'sign', 'final', 'adoption', 'papers', 'relented', 'months', 'later', 'parents', 'promised', 'would', 'someday', 'go', 'college', '17', 'years', 'later', 'go', 'college', 'naively', 'chose', 'college', 'almost', 'expensive', 'stanford', 'workingclass', 'parents', '’', 'savings', 'spent', 'college', 'tuition', 'six', 'months', '’', 'see', 'value', 'idea', 'wanted', 'life', 'idea', 'college', 'going', 'help', 'figure', 'spending', 'money', 'parents', 'saved', 'entire', 'life', 'decided', 'drop', 'trust', 'would', 'work', 'ok', 'pretty', 'scary', 'time', 'looking', 'back', 'one', 'best', 'decisions', 'ever', 'made', 'minute', 'dropped', 'could', 'stop', 'taking', 'required', 'classes', '’', 'interest', 'begin', 'dropping', 'ones', 'looked', 'interesting', '’', 'romantic', '’', 'dorm', 'room', 'slept', 'floor', 'friends', '’', 'rooms', 'returned', 'coke', 'bottles', '5¢', 'deposits', 'buy', 'food', 'would', 'walk', '7', 'miles', 'across', 'town', 'every', 'sunday', 'night', 'get', 'one', 'good', 'meal', 'week', 'hare', 'krishna', 'temple', 'loved', 'much', 'stumbled', 'following', 'curiosity', 'intuition', 'turned', 'priceless', 'later', 'let', 'give', 'one', 'example', 'reed', 'college', 'time', 'offered', 'perhaps', 'best', 'calligraphy', 'instruction', 'country', 'throughout', 'campus', 'every', 'poster', 'every', 'label', 'every', 'drawer', 'beautifully', 'hand', 'calligraphed', 'dropped', '’', 'take', 'normal', 'classes', 'decided', 'take', 'calligraphy', 'class', 'learn', 'learned', 'serif', 'sans', 'serif', 'typefaces', 'varying', 'amount', 'space', 'different', 'letter', 'combinations', 'makes', 'great', 'typography', 'great', 'beautiful', 'historical', 'artistically', 'subtle', 'way', 'science', '’', 'capture', 'found', 'fascinating', 'none', 'even', 'hope', 'practical', 'application', 'life', '10', 'years', 'later', 'designing', 'first', 'macintosh', 'computer', 'came', 'back', 'designed', 'mac', 'first', 'computer', 'beautiful', 'typography', 'never', 'dropped', 'single', 'course', 'college', 'mac', 'would', 'never', 'multiple', 'typefaces', 'proportionally', 'spaced', 'fonts', 'since', 'windows', 'copied', 'mac', '’', 'likely', 'personal', 'computer', 'would', 'never', 'dropped', 'would', 'never', 'dropped', 'calligraphy', 'class', 'personal', 'computers', 'might', 'wonderful', 'typography', 'course', 'impossible', 'connect', 'dots', 'looking', 'forward', 'college', 'clear', 'looking', 'backward', '10', 'years', 'later', '’', 'connect', 'dots', 'looking', 'forward', 'connect', 'looking', 'backward', 'trust', 'dots', 'somehow', 'connect', 'future', 'trust', 'something', '—', 'gut', 'destiny', 'life', 'karma', 'whatever', 'approach', 'never', 'let', 'made', 'difference', 'life', 'second', 'story', 'love', 'loss', 'lucky', '—', 'found', 'loved', 'early', 'life', 'woz', 'started', 'apple', 'parents', '’', 'garage', '20', 'worked', 'hard', '10', 'years', 'apple', 'grown', 'two', 'us', 'garage', '2', 'billion', 'company', '4000', 'employees', 'released', 'finest', 'creation', '—', 'macintosh', '—', 'year', 'earlier', 'turned', '30', 'got', 'fired', 'get', 'fired', 'company', 'started', 'well', 'apple', 'grew', 'hired', 'someone', 'thought', 'talented', 'run', 'company', 'first', 'year', 'things', 'went', 'well', 'visions', 'future', 'began', 'diverge', 'eventually', 'falling', 'board', 'directors', 'sided', '30', 'publicly', 'focus', 'entire', 'adult', 'life', 'gone', 'devastating', 'really', '’', 'know', 'months', 'felt', 'let', 'previous', 'generation', 'entrepreneurs', '—', 'dropped', 'baton', 'passed', 'met', 'david', 'packard', 'bob', 'noyce', 'tried', 'apologize', 'screwing', 'badly', 'public', 'failure', 'even', 'thought', 'running', 'away', 'valley', 'something', 'slowly', 'began', 'dawn', '—', 'still', 'loved', 'turn', 'events', 'apple', 'changed', 'one', 'bit', 'rejected', 'still', 'love', 'decided', 'start', '’', 'see', 'turned', 'getting', 'fired', 'apple', 'best', 'thing', 'could', 'ever', 'happened', 'heaviness', 'successful', 'replaced', 'lightness', 'beginner', 'less', 'sure', 'everything', 'freed', 'enter', 'one', 'creative', 'periods', 'life', 'next', 'five', 'years', 'started', 'company', 'named', 'next', 'another', 'company', 'named', 'pixar', 'fell', 'love', 'amazing', 'woman', 'would', 'become', 'wife', 'pixar', 'went', 'create', 'world', '’', 'first', 'computer', 'animated', 'feature', 'film', 'toy', 'story', 'successful', 'animation', 'studio', 'world', 'remarkable', 'turn', 'events', 'apple', 'bought', 'next', 'returned', 'apple', 'technology', 'developed', 'next', 'heart', 'apple', '’', 'current', 'renaissance', 'laurene', 'wonderful', 'family', 'together', '’', 'pretty', 'sure', 'none', 'would', 'happened', '’', 'fired', 'apple', 'awful', 'tasting', 'medicine', 'guess', 'patient', 'needed', 'sometimes', 'life', 'hits', 'head', 'brick', '’', 'lose', 'faith', '’', 'convinced', 'thing', 'kept', 'going', 'loved', '’', 'got', 'find', 'love', 'true', 'work', 'lovers', 'work', 'going', 'fill', 'large', 'part', 'life', 'way', 'truly', 'satisfied', 'believe', 'great', 'work', 'way', 'great', 'work', 'love', '’', 'found', 'yet', 'keep', 'looking', '’', 'settle', 'matters', 'heart', '’', 'know', 'find', 'like', 'great', 'relationship', 'gets', 'better', 'better', 'years', 'roll', 'keep', 'looking', 'find', '’', 'settle', 'third', 'story', 'death', '17', 'read', 'quote', 'went', 'something', 'like', '“', 'live', 'day', 'last', 'someday', '’', 'certainly', 'right', '”', 'made', 'impression', 'since', 'past', '33', 'years', 'looked', 'mirror', 'every', 'morning', 'asked', '“', 'today', 'last', 'day', 'life', 'would', 'want', 'today', '”', 'whenever', 'answer', '“', '”', 'many', 'days', 'row', 'know', 'need', 'change', 'something', 'remembering', '’', 'dead', 'soon', 'important', 'tool', '’', 'ever', 'encountered', 'help', 'make', 'big', 'choices', 'life', 'almost', 'everything', '—', 'external', 'expectations', 'pride', 'fear', 'embarrassment', 'failure', '—', 'things', 'fall', 'away', 'face', 'death', 'leaving', 'truly', 'important', 'remembering', 'going', 'die', 'best', 'way', 'know', 'avoid', 'trap', 'thinking', 'something', 'lose', 'already', 'naked', 'reason', 'follow', 'heart', 'year', 'ago', 'diagnosed', 'cancer', 'scan', '730', 'morning', 'clearly', 'showed', 'tumor', 'pancreas', '’', 'even', 'know', 'pancreas', 'doctors', 'told', 'almost', 'certainly', 'type', 'cancer', 'incurable', 'expect', 'live', 'longer', 'three', 'six', 'months', 'doctor', 'advised', 'go', 'home', 'get', 'affairs', 'order', 'doctor', '’', 'code', 'prepare', 'die', 'means', 'try', 'tell', 'kids', 'everything', 'thought', '’', 'next', '10', 'years', 'tell', 'months', 'means', 'make', 'sure', 'everything', 'buttoned', 'easy', 'possible', 'family', 'means', 'say', 'goodbyes', 'lived', 'diagnosis', 'day', 'later', 'evening', 'biopsy', 'stuck', 'endoscope', 'throat', 'stomach', 'intestines', 'put', 'needle', 'pancreas', 'got', 'cells', 'tumor', 'sedated', 'wife', 'told', 'viewed', 'cells', 'microscope', 'doctors', 'started', 'crying', 'turned', 'rare', 'form', 'pancreatic', 'cancer', 'curable', 'surgery', 'surgery', '’', 'fine', 'closest', '’', 'facing', 'death', 'hope', '’', 'closest', 'get', 'decades', 'lived', 'say', 'bit', 'certainty', 'death', 'useful', 'purely', 'intellectual', 'concept', 'one', 'wants', 'die', 'even', 'people', 'want', 'go', 'heaven', '’', 'want', 'die', 'get', 'yet', 'death', 'destination', 'share', 'one', 'ever', 'escaped', 'death', 'likely', 'single', 'best', 'invention', 'life', 'life', '’', 'change', 'agent', 'clears', 'old', 'make', 'way', 'new', 'right', 'new', 'someday', 'long', 'gradually', 'become', 'old', 'cleared', 'away', 'sorry', 'dramatic', 'quite', 'true', 'time', 'limited', '’', 'waste', 'living', 'someone', 'else', '’', 'life', '’', 'trapped', 'dogma', '—', 'living', 'results', 'people', '’', 'thinking', '’', 'let', 'noise', 'others', '’', 'opinions', 'drown', 'inner', 'voice', 'important', 'courage', 'follow', 'heart', 'intuition', 'somehow', 'already', 'know', 'truly', 'want', 'become', 'everything', 'else', 'secondary', 'young', 'amazing', 'publication', 'called', 'whole', 'earth', 'catalog', 'one', 'bibles', 'generation', 'created', 'fellow', 'named', 'stewart', 'brand', 'far', 'menlo', 'park', 'brought', 'life', 'poetic', 'touch', 'late', '1960s', 'personal', 'computers', 'desktop', 'publishing', 'made', 'typewriters', 'scissors', 'polaroid', 'cameras', 'sort', 'like', 'google', 'paperback', 'form', '35', 'years', 'google', 'came', 'along', 'idealistic', 'overflowing', 'neat', 'tools', 'great', 'notions', 'stewart', 'team', 'put', 'several', 'issues', 'whole', 'earth', 'catalog', 'run', 'course', 'put', 'final', 'issue', 'mid1970s', 'age', 'back', 'cover', 'final', 'issue', 'photograph', 'early', 'morning', 'country', 'road', 'kind', 'might', 'find', 'hitchhiking', 'adventurous', 'beneath', 'words', '“', 'stay', 'hungry', 'stay', 'foolish', '”', 'farewell', 'message', 'signed', 'stay', 'hungry', 'stay', 'foolish', 'always', 'wished', 'graduate', 'begin', 'anew', 'wish', 'stay', 'hungry', 'stay', 'foolish', 'thank', 'much']\n"
          ]
        }
      ],
      "source": [
        "## 4a. Stopwords: removal of words that dont contribute to the end meaning of the sentence\n",
        "from nltk.corpus import stopwords\n",
        "final_words = []\n",
        "for word in tokenizzed_words:\n",
        "  if word not in stopwords.words('english'):\n",
        "    final_words.append(word)\n",
        "\n",
        "print(final_words)"
      ]
    },
    {
      "cell_type": "markdown",
      "metadata": {
        "id": "gIJq-AxT9BJt"
      },
      "source": [
        "**FINDING THE SENTIMENT OF TEXT**"
      ]
    },
    {
      "cell_type": "code",
      "execution_count": 93,
      "metadata": {
        "colab": {
          "base_uri": "https://localhost:8080/"
        },
        "id": "8mxKBj8k9FQ8",
        "outputId": "395cb077-ace7-427b-a912-571d39ad6a29"
      },
      "outputs": [
        {
          "name": "stdout",
          "output_type": "stream",
          "text": [
            "Positive Sentiment\n"
          ]
        }
      ],
      "source": [
        "from nltk.sentiment.vader import SentimentIntensityAnalyzer\n",
        "def sentiment_analyse(sentiment_text): ##putting cleaned(lower case and without punctuation) text as parameter\n",
        "  score = SentimentIntensityAnalyzer().polarity_scores(sentiment_text)\n",
        "  neg = score['neg']\n",
        "  pos = score['pos']\n",
        "  if neg>pos:\n",
        "    print('Negative Sentiment')\n",
        "  elif pos>neg:\n",
        "    print('Positive Sentiment')\n",
        "  else:\n",
        "    print('Neutral Vibe')\n",
        "\n",
        "\n",
        "\n",
        "\n",
        "sentiment_analyse(cleaned_text)\n",
        "\n",
        "\n"
      ]
    }
  ],
  "metadata": {
    "colab": {
      "provenance": []
    },
    "kernelspec": {
      "display_name": "Python 3",
      "name": "python3"
    },
    "language_info": {
      "name": "python"
    }
  },
  "nbformat": 4,
  "nbformat_minor": 0
}
